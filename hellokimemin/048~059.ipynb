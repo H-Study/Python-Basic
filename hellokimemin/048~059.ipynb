{
 "cells": [
  {
   "cell_type": "code",
   "execution_count": 2,
   "metadata": {},
   "outputs": [],
   "source": [
    "#  open(파일이름, 모드)\n",
    "f1 = open(\"../sourcecode/011.py\",\"r\")\n",
    "f2 = open(\"/Users/Kimemin/Project/DevEdu/H-Study/Python-Basic/sourcecode/img_sample.jpg\", \"rb\")\n",
    "\n",
    "# 오픈한 파일을 처리\n",
    "\n",
    "# 파일 close\n",
    "f1.close()\n",
    "f2.close()"
   ]
  },
  {
   "cell_type": "code",
   "execution_count": 17,
   "metadata": {},
   "outputs": [
    {
     "name": "stdout",
     "output_type": "stream",
     "text": [
      "Hello\n",
      "Hi\n",
      "Hello\n",
      "Hi\n",
      "hyemin! GoodBye!\n"
     ]
    }
   ],
   "source": [
    "class MyClass:\n",
    "    text = \"Hello\" # 클래스 멤버\n",
    "\n",
    "    # method 의 첫번째 인자는 무조건 자기 자신이다!!!!!\n",
    "    def sayHello(self):\n",
    "        param1 = \"Hi\" # 메소드의 지역변수\n",
    "        self.param2 = \"Hi\" # 인스턴스 멤버\n",
    "        print(param1)\n",
    "        print(self.text)\n",
    "        \n",
    "    def sayBye(self, name):\n",
    "        print(\"%s! GoodBye!\" %name)\n",
    "        \n",
    "obj = MyClass()\n",
    "print(obj.text)\n",
    "# print(obj.param2)\n",
    "obj.sayHello()\n",
    "print(obj.param2)\n",
    "# print(obj.param1)\n",
    "obj.sayBye(\"hyemin\")"
   ]
  },
  {
   "cell_type": "code",
   "execution_count": 24,
   "metadata": {},
   "outputs": [
    {
     "name": "stdout",
     "output_type": "stream",
     "text": [
      "MyClass2 인스턴스 생성\n",
      "Hi\n"
     ]
    }
   ],
   "source": [
    "class MyClass2:\n",
    "    # Python 의 Class Constructor\n",
    "    def __init__(self):\n",
    "        self.text = \"Hi\";\n",
    "        print(\"MyClass2 인스턴스 생성\")\n",
    "    \n",
    "    # Python 의 Class Destructor\n",
    "    def __del__(self):\n",
    "        print(\"MyClass2 인스턴스 제거\")\n",
    "        \n",
    "obj = MyClass2()\n",
    "print(obj.text)"
   ]
  },
  {
   "cell_type": "code",
   "execution_count": 25,
   "metadata": {},
   "outputs": [
    {
     "name": "stdout",
     "output_type": "stream",
     "text": [
      "MyClass2 인스턴스 제거\n"
     ]
    }
   ],
   "source": [
    "del obj"
   ]
  },
  {
   "cell_type": "code",
   "execution_count": 33,
   "metadata": {},
   "outputs": [
    {
     "name": "stdout",
     "output_type": "stream",
     "text": [
      "3\n",
      "-5\n",
      "12\n"
     ]
    }
   ],
   "source": [
    "class Add:\n",
    "    def add(self, n1, n2):\n",
    "        return n1 + n2\n",
    "\n",
    "# Add Class 상속\n",
    "class Calculator(Add):\n",
    "    def sub(self, n1, n2):\n",
    "        return n1 - n2\n",
    "\n",
    "class Multiply:\n",
    "    def multiply(self, n1, n2):\n",
    "        return n1 * n2\n",
    "\n",
    "# Class 다중 상속\n",
    "class Calculator(Add, Multiply):\n",
    "    def sub(self, n1, n2):\n",
    "        return n1 - n2\n",
    "\n",
    "obj = Calculator()\n",
    "print(obj.add(1,2))\n",
    "print(obj.sub(4,9))\n",
    "print(obj.multiply(3,4))"
   ]
  },
  {
   "cell_type": "code",
   "execution_count": 36,
   "metadata": {},
   "outputs": [
    {
     "name": "stdout",
     "output_type": "stream",
     "text": [
      "hello\n",
      "예외가 발생할때 실행됨\n",
      "무조건 실행하는 코드\n"
     ]
    }
   ],
   "source": [
    "try:\n",
    "    print(\"hello\")\n",
    "    print(param)\n",
    "except:\n",
    "    print(\"예외가 발생할때 실행됨\")\n",
    "else:\n",
    "    print(\"예외가 발생하지 않을때 실행됨\")\n",
    "finally:\n",
    "    print(\"무조건 실행하는 코드\")"
   ]
  },
  {
   "cell_type": "code",
   "execution_count": 38,
   "metadata": {},
   "outputs": [
    {
     "name": "stdout",
     "output_type": "stream",
     "text": [
      "name 'param' is not defined\n"
     ]
    }
   ],
   "source": [
    "try:\n",
    "    print(param)\n",
    "except Exception as e:\n",
    "    print(e)"
   ]
  },
  {
   "cell_type": "code",
   "execution_count": 39,
   "metadata": {},
   "outputs": [
    {
     "name": "stdout",
     "output_type": "stream",
     "text": [
      "1\n",
      "2\n",
      "3\n",
      "4\n",
      "5\n",
      "6\n",
      "7\n",
      "8\n",
      "9\n",
      "10\n",
      "11\n",
      "12\n",
      "13\n",
      "사용자에 의해 프로그램 중단\n"
     ]
    }
   ],
   "source": [
    "# 특정 상황 예외 처리\n",
    "import time\n",
    "count = 1\n",
    "try:\n",
    "    while True:\n",
    "        print(count)\n",
    "        count += 1\n",
    "        time.sleep(0.5)\n",
    "except KeyboardInterrupt:\n",
    "    print(\"사용자에 의해 프로그램 중단\")"
   ]
  },
  {
   "cell_type": "code",
   "execution_count": null,
   "metadata": {},
   "outputs": [],
   "source": []
  }
 ],
 "metadata": {
  "kernelspec": {
   "display_name": "Python 3",
   "language": "python",
   "name": "python3"
  },
  "language_info": {
   "codemirror_mode": {
    "name": "ipython",
    "version": 3
   },
   "file_extension": ".py",
   "mimetype": "text/x-python",
   "name": "python",
   "nbconvert_exporter": "python",
   "pygments_lexer": "ipython3",
   "version": "3.6.3"
  }
 },
 "nbformat": 4,
 "nbformat_minor": 2
}
