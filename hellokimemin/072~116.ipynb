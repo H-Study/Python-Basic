{
 "cells": [
  {
   "cell_type": "code",
   "execution_count": 7,
   "metadata": {},
   "outputs": [
    {
     "name": "stdout",
     "output_type": "stream",
     "text": [
      "9.96\n",
      "0.93\n",
      "y\n",
      "A\n",
      "9\n",
      "abz\n"
     ]
    }
   ],
   "source": [
    "listdata = [9.96, 1.27, 5.07, 6.45, 8.38, 9.29, 4.93, 7.73, 3.71, 0.93]\n",
    "maxval = max(listdata)\n",
    "minval = min(listdata)\n",
    "print(maxval)\n",
    "print(minval)\n",
    "\n",
    "txt = 'Alotofthingsoccureachrday'\n",
    "maxval = max(txt)\n",
    "minval = min(txt)\n",
    "print(maxval)\n",
    "print(minval)\n",
    "\n",
    "maxval = max(2+3, 2*3, 2**3, 3**2)\n",
    "minval = min('abz', 'al2')\n",
    "print(maxval)\n",
    "print(minval)"
   ]
  },
  {
   "cell_type": "code",
   "execution_count": 8,
   "metadata": {},
   "outputs": [
    {
     "name": "stdout",
     "output_type": "stream",
     "text": [
      "11\n"
     ]
    }
   ],
   "source": [
    "a = 107\n",
    "b = a & 0x0f\n",
    "print(b)"
   ]
  },
  {
   "cell_type": "code",
   "execution_count": 10,
   "metadata": {},
   "outputs": [
    {
     "name": "stdout",
     "output_type": "stream",
     "text": [
      "6\n"
     ]
    }
   ],
   "source": [
    "a = 107\n",
    "b = (a>>4) & 0x0f\n",
    "print(b)"
   ]
  },
  {
   "cell_type": "code",
   "execution_count": 13,
   "metadata": {},
   "outputs": [
    {
     "name": "stdout",
     "output_type": "stream",
     "text": [
      "e\n",
      "라\n"
     ]
    }
   ],
   "source": [
    "txt1 = 'A tale that was not right'\n",
    "txt2 = '이 또한 지나가리라.'\n",
    "\n",
    "print(txt1[5])\n",
    "print(txt2[-2])"
   ]
  },
  {
   "cell_type": "code",
   "execution_count": 14,
   "metadata": {},
   "outputs": [
    {
     "name": "stdout",
     "output_type": "stream",
     "text": [
      "ale \n",
      "A tale\n",
      "가리라.\n"
     ]
    }
   ],
   "source": [
    "print(txt1[3:7]) # 3부터 7 미만까지 (뒤 인덱스 포함안됨)\n",
    "print(txt1[:6])\n",
    "print(txt2[-4:])"
   ]
  },
  {
   "cell_type": "code",
   "execution_count": 20,
   "metadata": {},
   "outputs": [
    {
     "name": "stdout",
     "output_type": "stream",
     "text": [
      "A\n",
      "A \n",
      "A t\n",
      "A ta\n",
      "A tal\n",
      "A tale\n",
      "A tale \n",
      "A tale t\n",
      "A tale th\n",
      "A tale tha\n",
      "A tale that\n",
      "A tale that \n",
      "A tale that w\n",
      "A tale that wa\n",
      "A tale that was\n",
      "A tale that was \n",
      "A tale that was n\n",
      "A tale that was no\n",
      "A tale that was not\n",
      "A tale that was not \n",
      "A tale that was not r\n",
      "A tale that was not ri\n",
      "A tale that was not rig\n",
      "A tale that was not righ\n",
      "A tale that was not right\n"
     ]
    }
   ],
   "source": [
    "for i in range(len(txt1)):\n",
    "    print(txt1[:i+1])"
   ]
  },
  {
   "cell_type": "code",
   "execution_count": 30,
   "metadata": {},
   "outputs": [
    {
     "name": "stdout",
     "output_type": "stream",
     "text": [
      "abcdefghijk\n",
      "ABCDEFGHIJK\n",
      "KJIHGFEDCBA\n"
     ]
    }
   ],
   "source": [
    "txt = 'aAbBcCdDeEfFgGhHiIjJkK'\n",
    "ret = txt[::2] # step 2로 슬라이싱\n",
    "print(ret)\n",
    "print(txt[1::2])"
   ]
  },
  {
   "cell_type": "code",
   "execution_count": 33,
   "metadata": {},
   "outputs": [
    {
     "name": "stdout",
     "output_type": "stream",
     "text": [
      "kjihgfedcba\n",
      "KJIHGFEDCBA\n",
      "kjihgfedcba\n"
     ]
    }
   ],
   "source": [
    "txt2 = 'abcdefghijk'\n",
    "ret = txt2[::-1]\n",
    "print(ret)\n",
    "print(txt[::-2])\n",
    "print(txt[-2::-2])"
   ]
  },
  {
   "cell_type": "code",
   "execution_count": 36,
   "metadata": {},
   "outputs": [
    {
     "name": "stdout",
     "output_type": "stream",
     "text": [
      "저장할 파일 이름을 입력하세요:hello\n",
      "당신이 저장한 파일은 hello.jpg입니다\n"
     ]
    }
   ],
   "source": [
    "filename = input('저장할 파일 이름을 입력하세요:')\n",
    "filename = filename + '.jpg'\n",
    "display_msg = '당신이 저장한 파일은 %s입니다' %filename\n",
    "print(display_msg)"
   ]
  },
  {
   "cell_type": "code",
   "execution_count": 40,
   "metadata": {},
   "outputs": [
    {
     "name": "stdout",
     "output_type": "stream",
     "text": [
      "Let's gogogogogogogogogo~!\n"
     ]
    }
   ],
   "source": [
    "msg1 = 'Let\\'s'\n",
    "msg2 = 'gogogo'\n",
    "display_msg = msg1 + ' ' + msg2*3 + '~!'\n",
    "print(display_msg)"
   ]
  },
  {
   "cell_type": "code",
   "execution_count": 43,
   "metadata": {},
   "outputs": [
    {
     "name": "stdout",
     "output_type": "stream",
     "text": [
      "임의의 문장을 입력하세요: hello hyemin\n",
      "> 이 문장에는 'a'가 포함되어 있지 않습니다\n"
     ]
    }
   ],
   "source": [
    "msg = input('임의의 문장을 입력하세요: ')\n",
    "if 'a' in msg:\n",
    "    print(\"> 이 문장에는 'a'가 포함되어 있습니다\")\n",
    "else:\n",
    "    print(\"> 이 문장에는 'a'가 포함되어 있지 않습니다\")"
   ]
  },
  {
   "cell_type": "code",
   "execution_count": 47,
   "metadata": {},
   "outputs": [
    {
     "name": "stdout",
     "output_type": "stream",
     "text": [
      "임의의 문장을 입력하세요: what if\n",
      "> 이 문장에는 'is'가 포함되어 있지 않습니다\n"
     ]
    }
   ],
   "source": [
    "msg = input('임의의 문장을 입력하세요: ')\n",
    "if 'is' in msg:\n",
    "    print(\"> 이 문장에는 'is'가 포함되어 있습니다\")\n",
    "else:\n",
    "    print(\"> 이 문장에는 'is'가 포함되어 있지 않습니다\")"
   ]
  },
  {
   "cell_type": "code",
   "execution_count": 50,
   "metadata": {},
   "outputs": [
    {
     "name": "stdout",
     "output_type": "stream",
     "text": [
      "임의의 문장을 입력하세요: 안녕하세요 여러분\n",
      "당신이 입력한 문장의 길이는 9 입니다\n",
      "당신이 입력한 문장의 byte크기는 25 입니다\n"
     ]
    }
   ],
   "source": [
    "msg = input('임의의 문장을 입력하세요: ')\n",
    "print('당신이 입력한 문장의 길이는 %d 입니다' %len(msg))\n",
    "print('당신이 입력한 문장의 byte크기는 %d 입니다' %len(msg.encode()))"
   ]
  },
  {
   "cell_type": "code",
   "execution_count": 54,
   "metadata": {},
   "outputs": [
    {
     "name": "stdout",
     "output_type": "stream",
     "text": [
      "True\n",
      "True\n",
      "False\n",
      "False\n"
     ]
    }
   ],
   "source": [
    "txt1 = 'A'\n",
    "txt2 = '안녕'\n",
    "txt3 = 'Warcraft Three'\n",
    "txt4 = '3PO'\n",
    "txt_array = (txt1, txt2, txt3, txt4)\n",
    "for txt in txt_array:\n",
    "    print(txt.isalpha())\n",
    "\n",
    "# 공백문자가 들어가면 alpha 취급 안해줌. 숫자 들어가도 alpha 취급 안해줌"
   ]
  },
  {
   "cell_type": "code",
   "execution_count": 56,
   "metadata": {},
   "outputs": [
    {
     "name": "stdout",
     "output_type": "stream",
     "text": [
      "False\n",
      "False\n",
      "True\n",
      "False\n"
     ]
    }
   ],
   "source": [
    "txt1 = '010-1234-5678'\n",
    "txt2 = 'R2D2'\n",
    "txt3 = '1212'\n",
    "txt4 = '45 67 12'\n",
    "txt_array = (txt1, txt2, txt3, txt4)\n",
    "for txt in txt_array:\n",
    "    print(txt.isdigit())\n",
    "\n",
    "# 공백문자가 들어가면 digit 취급 안해줌. 기호/문자 들어가도 alpha 취급 안해줌"
   ]
  },
  {
   "cell_type": "code",
   "execution_count": 58,
   "metadata": {},
   "outputs": [
    {
     "name": "stdout",
     "output_type": "stream",
     "text": [
      "False\n",
      "False\n",
      "True\n",
      "False\n"
     ]
    }
   ],
   "source": [
    "txt1 = '안녕하세요?'\n",
    "txt2 = '1.Title-제목을 넣으세요'\n",
    "txt3 = '3피오R2D2'\n",
    "txt4 = '공백 이번에도 안해줌'\n",
    "txt_array = (txt1, txt2, txt3, txt4)\n",
    "for txt in txt_array:\n",
    "    print(txt.isalnum())\n",
    "\n",
    "# 공백문자가 들어가면 digit 취급 안해줌. 기호/문자 들어가도 alpha 취급 안해줌"
   ]
  },
  {
   "cell_type": "code",
   "execution_count": 59,
   "metadata": {},
   "outputs": [
    {
     "name": "stdout",
     "output_type": "stream",
     "text": [
      "A LOT OF THINGS OCCUR EACH DAY.\n",
      "a lot of things occur each day.\n"
     ]
    }
   ],
   "source": [
    "txt = 'A lot of Things occur each day.'\n",
    "ret1 = txt.upper()\n",
    "ret2 = txt.lower()\n",
    "print(ret1)\n",
    "print(ret2)"
   ]
  },
  {
   "cell_type": "code",
   "execution_count": 64,
   "metadata": {},
   "outputs": [
    {
     "name": "stdout",
     "output_type": "stream",
     "text": [
      "lstrip : <양쪽에 공백이 있는 문자열입니다. >\n",
      "rstrip : < 양쪽에 공백이 있는 문자열입니다.>\n",
      "strip : <양쪽에 공백이 있는 문자열입니다.>\n"
     ]
    }
   ],
   "source": [
    "txt = ' 양쪽에 공백이 있는 문자열입니다. '\n",
    "print(\"lstrip : <%s>\" %txt.lstrip())\n",
    "print(\"rstrip : <%s>\" %txt.rstrip())\n",
    "print(\"strip : <%s>\" %txt.strip())"
   ]
  },
  {
   "cell_type": "code",
   "execution_count": 68,
   "metadata": {},
   "outputs": [
    {
     "name": "stdout",
     "output_type": "stream",
     "text": [
      "숫자를 입력하세요: 13013\n",
      "당신이 입력한 숫자는 정수 <13013>입니다.\n"
     ]
    }
   ],
   "source": [
    "numstr = input('숫자를 입력하세요: ')\n",
    "try:\n",
    "    num = int(numstr)\n",
    "    print('당신이 입력한 숫자는 정수 <%d>입니다.' %num)\n",
    "except:\n",
    "    try:\n",
    "        num = float(numstr)\n",
    "        print('당신이 입력한 숫자는 실수 <%d>입니다.' %num)\n",
    "    except:\n",
    "        print('+++ 숫자를 입력하세요~ +++')"
   ]
  },
  {
   "cell_type": "code",
   "execution_count": 70,
   "metadata": {},
   "outputs": [
    {
     "name": "stdout",
     "output_type": "stream",
     "text": [
      "num1을 문자열로 변환한 값은 '1234'입니다.\n",
      "num2을 문자열로 변환한 값은 '3.14'입니다.\n"
     ]
    }
   ],
   "source": [
    "num1 = 1234\n",
    "num2 = 3.14\n",
    "\n",
    "print(\"num1을 문자열로 변환한 값은 '%s'입니다.\" %str(num1))\n",
    "print(\"num2을 문자열로 변환한 값은 '%s'입니다.\" %str(num2))"
   ]
  },
  {
   "cell_type": "code",
   "execution_count": 71,
   "metadata": {},
   "outputs": [
    {
     "name": "stdout",
     "output_type": "stream",
     "text": [
      "3\n",
      "2\n",
      "8\n"
     ]
    }
   ],
   "source": [
    "txt = 'A lot of things occur each day, every day.'\n",
    "word_count1 = txt.count('o')\n",
    "word_count2 = txt.count('day')\n",
    "word_count3 = txt.count(' ')\n",
    "print(word_count1)\n",
    "print(word_count2)\n",
    "print(word_count3)\n"
   ]
  },
  {
   "cell_type": "code",
   "execution_count": 72,
   "metadata": {},
   "outputs": [
    {
     "name": "stdout",
     "output_type": "stream",
     "text": [
      "22\n",
      "27\n",
      "38\n"
     ]
    }
   ],
   "source": [
    "offset1 = txt.find('e')\n",
    "offset2 = txt.find('day')\n",
    "offset3 = txt.find('day', 30)\n",
    "\n",
    "print(offset1)\n",
    "print(offset2)\n",
    "print(offset3)"
   ]
  },
  {
   "cell_type": "code",
   "execution_count": 81,
   "metadata": {},
   "outputs": [
    {
     "name": "stdout",
     "output_type": "stream",
     "text": [
      "['http:', '', 'www.naver.com', 'news', 'today=20160831']\n",
      "['name:홍길동', 'age:17', 'sex:남자', 'nation:조선']\n",
      "name-> 홍길동\n",
      "age-> 17\n",
      "sex-> 남자\n",
      "nation-> 조선\n"
     ]
    }
   ],
   "source": [
    "url = 'http://www.naver.com/news/today=20160831'\n",
    "log = 'name:홍길동 age:17 sex:남자 nation:조선'\n",
    "\n",
    "ret1 = url.split(\"/\")\n",
    "print(ret1)\n",
    "\n",
    "ret2 = log.split()  # 인자가 없으면 디폴트로 공백을 구분자로 문자열 분리\n",
    "print(ret2)\n",
    "for data in ret2:\n",
    "    d1, d2 = data.split(':')\n",
    "    print(\"%s-> %s\" %(d1, d2))"
   ]
  },
  {
   "cell_type": "code",
   "execution_count": 83,
   "metadata": {},
   "outputs": [
    {
     "name": "stdout",
     "output_type": "stream",
     "text": [
      "2016/08/26 10:12:11;200;OK;이 또한 지나가리라\n"
     ]
    }
   ],
   "source": [
    "loglist = ['2016/08/26 10:12:11', '200', 'OK', '이 또한 지나가리라']\n",
    "band= ';'\n",
    "log = band.join(loglist)\n",
    "print(log)\n"
   ]
  },
  {
   "cell_type": "code",
   "execution_count": 87,
   "metadata": {},
   "outputs": [
    {
     "name": "stdout",
     "output_type": "stream",
     "text": [
      "My password is 0234\n",
      "My password is pyhthon234\n",
      "항상 많은 일들이 일어납니다.\n",
      "항상 많은 사건들이 사건어납니다.\n"
     ]
    }
   ],
   "source": [
    "txt = 'My password is 1234'\n",
    "ret1 = txt.replace('1', '0')\n",
    "ret2 = txt.replace('1', 'pyhthon')\n",
    "print(ret1)\n",
    "print(ret2)\n",
    "\n",
    "txt = '매일 많은 일들이 일어납니다.'\n",
    "ret3 = txt.replace('매일', '항상')\n",
    "ret4 = ret3.replace('일', '사건')\n",
    "print(ret3)\n",
    "print(ret4)"
   ]
  },
  {
   "cell_type": "code",
   "execution_count": 89,
   "metadata": {},
   "outputs": [
    {
     "name": "stdout",
     "output_type": "stream",
     "text": [
      "I Love python\n",
      "b'I Love python'\n",
      "True\n",
      "False\n"
     ]
    }
   ],
   "source": [
    "u_txt = 'I Love python'\n",
    "b_txt = u_txt.encode() # 유니코드 문자열을 바이트 객체로 변경 \n",
    "print(u_txt)\n",
    "print(b_txt)\n",
    "\n",
    "ret1 = 'I' == u_txt[0]\n",
    "ret2 = 'I' == b_txt[0]\n",
    "print(ret1)\n",
    "print(ret2)"
   ]
  },
  {
   "cell_type": "code",
   "execution_count": 91,
   "metadata": {},
   "outputs": [
    {
     "name": "stdout",
     "output_type": "stream",
     "text": [
      "A lot of things occur each day.\n"
     ]
    }
   ],
   "source": [
    "b_txt = b'A lot of things occur each day.'\n",
    "u_txt = b_txt.decode()\n",
    "print(u_txt)"
   ]
  },
  {
   "cell_type": "code",
   "execution_count": 94,
   "metadata": {},
   "outputs": [
    {
     "name": "stdout",
     "output_type": "stream",
     "text": [
      "정렬할 문자열을 입력하세요:13123\n",
      "['1', '1', '2', '3', '3']\n",
      "['3', '3', '2', '1', '1']\n",
      "오름차순으로 정렬된 문자열은 <1!1!2!3!3>입니다\n",
      "내림차순으로 정렬된 문자열은 <33211>입니다\n"
     ]
    }
   ],
   "source": [
    "strdata = input('정렬할 문자열을 입력하세요:')\n",
    "ret1 = sorted(strdata)\n",
    "ret2 = sorted(strdata, reverse=True)\n",
    "print(ret1)\n",
    "print(ret2)\n",
    "\n",
    "ret1 = \"!\".join(ret1)\n",
    "ret2 = \"\".join(ret2)\n",
    "print(\"오름차순으로 정렬된 문자열은 <%s>입니다\" %ret1)\n",
    "print(\"내림차순으로 정렬된 문자열은 <%s>입니다\" %ret2)\n",
    "\n",
    "#join method\n",
    "#{delimeter}.join({join 할 대상})\n",
    "#일반적인 join 과 argument 가 다름에 주의한다."
   ]
  },
  {
   "cell_type": "code",
   "execution_count": 97,
   "metadata": {},
   "outputs": [
    {
     "name": "stdout",
     "output_type": "stream",
     "text": [
      "[0, 1, 2, 3, 4, 5, 6, 7, 8, 9]\n",
      "[10, 11, 12, 13, 14, 15, 16, 17, 18, 19]\n",
      "[10, 12, 14, 16, 18]\n"
     ]
    }
   ],
   "source": [
    "range1 = range(10)\n",
    "range2 = range(10, 20)\n",
    "range3 = range(10, 20, 2)\n",
    "print(list(range1))\n",
    "print(list(range2))\n",
    "print(list(range3))"
   ]
  },
  {
   "cell_type": "code",
   "execution_count": 98,
   "metadata": {},
   "outputs": [
    {
     "name": "stdout",
     "output_type": "stream",
     "text": [
      "2\n",
      "b\n",
      "5\n"
     ]
    }
   ],
   "source": [
    "listdata = [1,2,'a','b','c',[4,5,6]]\n",
    "val1 = listdata[1]\n",
    "val2 = listdata[3]\n",
    "val3 = listdata[5][1]\n",
    "print(val1)\n",
    "print(val2)\n",
    "print(val3)"
   ]
  },
  {
   "cell_type": "code",
   "execution_count": 101,
   "metadata": {},
   "outputs": [
    {
     "name": "stdout",
     "output_type": "stream",
     "text": [
      "지구는 태양계에서 3번째에 위치하고 있습니다\n",
      "index 메소드의 두번쨰 인자가 존재하면 해당 위치에서부터 검색하여 인덱스를 반환한다: 9\n"
     ]
    }
   ],
   "source": [
    "solarsys = ['태양', '수성', '금성', '지구', '화성', '목성', '토성', '천왕성', '해왕성', '지구']\n",
    "planet = '지구'\n",
    "pos = solarsys.index(planet)\n",
    "print(\"%s는 태양계에서 %d번째에 위치하고 있습니다\" %(planet, pos))\n",
    "pos = solarsys.index(planet, 5)\n",
    "print(\"index 메소드의 두번쨰 인자가 존재하면 해당 위치에서부터 검색하여 인덱스를 반환한다: %d\" %pos)"
   ]
  },
  {
   "cell_type": "code",
   "execution_count": 103,
   "metadata": {},
   "outputs": [
    {
     "name": "stdout",
     "output_type": "stream",
     "text": [
      "['태양', '수성', '금성', '지구', 'MARS', '목성', '토성', '천왕성', '해왕성']\n"
     ]
    }
   ],
   "source": [
    "solarsys = ['태양', '수성', '금성', '지구', '화성', '목성', '토성', '천왕성', '해왕성']\n",
    "planet = '화성'\n",
    "pos = solarsys.index(planet)\n",
    "solarsys[pos] = 'MARS'\n",
    "print(solarsys)"
   ]
  },
  {
   "cell_type": "code",
   "execution_count": 104,
   "metadata": {},
   "outputs": [
    {
     "name": "stdout",
     "output_type": "stream",
     "text": [
      "태양계의 암석형 행성 : ['수성', '금성', '지구']\n",
      "태양계의 가스형 행성 : ['MARS', '목성', '토성', '천왕성', '해왕성']\n"
     ]
    }
   ],
   "source": [
    "print(\"태양계의 암석형 행성 : \", end='');print(solarsys[1:4])\n",
    "print(\"태양계의 가스형 행성 : \", end='');print(solarsys[4:])"
   ]
  },
  {
   "cell_type": "code",
   "execution_count": 107,
   "metadata": {},
   "outputs": [
    {
     "name": "stdout",
     "output_type": "stream",
     "text": [
      "[2, 4, 6, 8, 10, 12, 14, 16, 18, 20]\n",
      "[1, 3, 5, 7, 9, 11, 13, 15, 17, 19]\n"
     ]
    }
   ],
   "source": [
    "listdata = list(range(1,21))\n",
    "evenlist = listdata[1::2]\n",
    "print(evenlist)\n",
    "oddlist = listdata[::2]\n",
    "print(oddlist)"
   ]
  },
  {
   "cell_type": "code",
   "execution_count": 108,
   "metadata": {},
   "outputs": [
    {
     "name": "stdout",
     "output_type": "stream",
     "text": [
      "[4, 3, 2, 1, 0]\n"
     ]
    }
   ],
   "source": [
    "listdata = list(range(5))\n",
    "listdata.reverse()\n",
    "print(listdata)"
   ]
  },
  {
   "cell_type": "code",
   "execution_count": 116,
   "metadata": {},
   "outputs": [
    {
     "name": "stdout",
     "output_type": "stream",
     "text": [
      "원본 리스트 : [4, 3, 2, 1, 0]\n",
      "역순 리스트 : [0, 1, 2, 3, 4]\n"
     ]
    }
   ],
   "source": [
    "listdata2 = reversed(listdata) #iterator 객체 반환\n",
    "\n",
    "print(\"원본 리스트 : \", end=\"\");print(listdata)\n",
    "print(\"역순 리스트 : \", end=\"\");print(list(listdata2))"
   ]
  },
  {
   "cell_type": "code",
   "execution_count": 117,
   "metadata": {},
   "outputs": [
    {
     "name": "stdout",
     "output_type": "stream",
     "text": [
      "['a', 'b', 'c', 'd', 'e', 'f', 'g', 'h', 'i', 'j']\n",
      "['f', 'g', 'h', 'i', 'j', 'a', 'b', 'c', 'd', 'e']\n"
     ]
    }
   ],
   "source": [
    "listdata1 = ['a', 'b', 'c', 'd', 'e']\n",
    "listdata2 = ['f', 'g', 'h', 'i', 'j']\n",
    "listdata3 = listdata1 + listdata2\n",
    "listdata4 = listdata2 + listdata1\n",
    "print(listdata3)\n",
    "print(listdata4)"
   ]
  },
  {
   "cell_type": "code",
   "execution_count": 119,
   "metadata": {},
   "outputs": [
    {
     "name": "stdout",
     "output_type": "stream",
     "text": [
      "[0, 1, 2, 0, 1, 2, 0, 1, 2]\n"
     ]
    }
   ],
   "source": [
    "listdata = list(range(3))\n",
    "ret = listdata*3\n",
    "print(ret)"
   ]
  },
  {
   "cell_type": "code",
   "execution_count": 121,
   "metadata": {},
   "outputs": [
    {
     "name": "stdout",
     "output_type": "stream",
     "text": [
      "리스트에 추가할 값을 입력하세요[1/3]:10\n",
      "리스트에 추가할 값을 입력하세요[2/3]:20\n",
      "리스트에 추가할 값을 입력하세요[3/3]:13\n",
      "['10', '20', '13']\n"
     ]
    }
   ],
   "source": [
    "listdata = []\n",
    "for i in range(3):\n",
    "    txt = input('리스트에 추가할 값을 입력하세요[%d/3]:' %(i+1))\n",
    "    listdata.append(txt)\n",
    "\n",
    "print(listdata)"
   ]
  },
  {
   "cell_type": "code",
   "execution_count": 122,
   "metadata": {},
   "outputs": [
    {
     "name": "stdout",
     "output_type": "stream",
     "text": [
      "['태양', '수성', '금성', '지구', 'MARS', '소행성', '목성', '토성', '천왕성', '해왕성']\n"
     ]
    }
   ],
   "source": [
    "pos = solarsys.index('목성')\n",
    "solarsys.insert(pos, '소행성')\n",
    "print(solarsys)"
   ]
  },
  {
   "cell_type": "code",
   "execution_count": 129,
   "metadata": {},
   "outputs": [
    {
     "name": "stdout",
     "output_type": "stream",
     "text": [
      "['수성', '금성', '지구', '화성', '소행성', '목성', '토성', '천왕성', '해왕성']\n",
      "['수성', '금성', '지구', '화성', '목성', '토성', '천왕성', '해왕성']\n"
     ]
    }
   ],
   "source": [
    "solarsys = ['태양', '수성', '금성', '지구', '화성', '소행성', '목성', '토성', '천왕성', '해왕성']\n",
    "del solarsys[0]\n",
    "print(solarsys)\n",
    "del solarsys[-5]\n",
    "print(solarsys)"
   ]
  },
  {
   "cell_type": "code",
   "execution_count": 130,
   "metadata": {},
   "outputs": [
    {
     "name": "stdout",
     "output_type": "stream",
     "text": [
      "['수성', '금성', '지구', '화성', '목성', '토성', '천왕성']\n"
     ]
    }
   ],
   "source": [
    "solarsys.remove('해왕성')\n",
    "print(solarsys)"
   ]
  },
  {
   "cell_type": "code",
   "execution_count": 131,
   "metadata": {},
   "outputs": [
    {
     "name": "stdout",
     "output_type": "stream",
     "text": [
      "['태양', '지구', '화성', '소행성', '목성', '토성', '천왕성', '해왕성']\n"
     ]
    }
   ],
   "source": [
    "solarsys = ['태양', '수성', '금성', '지구', '화성', '소행성', '목성', '토성', '천왕성', '해왕성']\n",
    "del solarsys[1:3]\n",
    "print(solarsys)"
   ]
  },
  {
   "cell_type": "code",
   "execution_count": 133,
   "metadata": {},
   "outputs": [
    {
     "name": "stdout",
     "output_type": "stream",
     "text": [
      "15\n"
     ]
    }
   ],
   "source": [
    "listdata = [2,2,1,3,8,5,7,6,3,6,2,3,9,4,4]\n",
    "print(len(listdata))"
   ]
  },
  {
   "cell_type": "code",
   "execution_count": 135,
   "metadata": {},
   "outputs": [
    {
     "name": "stdout",
     "output_type": "stream",
     "text": [
      "3\n",
      "2\n"
     ]
    }
   ],
   "source": [
    "print(listdata.count(2))\n",
    "print(listdata.count(4))"
   ]
  },
  {
   "cell_type": "code",
   "execution_count": 146,
   "metadata": {},
   "outputs": [
    {
     "name": "stdout",
     "output_type": "stream",
     "text": [
      "name 'listdata' is not defined\n"
     ]
    }
   ],
   "source": [
    "try :\n",
    "    del listdata\n",
    "    print(listdata)\n",
    "except Exception as e:\n",
    "    print(e)"
   ]
  },
  {
   "cell_type": "code",
   "execution_count": null,
   "metadata": {},
   "outputs": [],
   "source": []
  },
  {
   "cell_type": "code",
   "execution_count": null,
   "metadata": {},
   "outputs": [],
   "source": []
  }
 ],
 "metadata": {
  "kernelspec": {
   "display_name": "Python 3",
   "language": "python",
   "name": "python3"
  },
  "language_info": {
   "codemirror_mode": {
    "name": "ipython",
    "version": 3
   },
   "file_extension": ".py",
   "mimetype": "text/x-python",
   "name": "python",
   "nbconvert_exporter": "python",
   "pygments_lexer": "ipython3",
   "version": "3.6.3"
  }
 },
 "nbformat": 4,
 "nbformat_minor": 2
}
