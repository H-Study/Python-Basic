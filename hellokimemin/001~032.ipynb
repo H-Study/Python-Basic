{
 "cells": [
  {
   "cell_type": "code",
   "execution_count": 4,
   "metadata": {},
   "outputs": [
    {
     "name": "stdout",
     "output_type": "stream",
     "text": [
      "hyemin\n"
     ]
    }
   ],
   "source": [
    "_myname='hyemin'\n",
    "print(_myname)"
   ]
  },
  {
   "cell_type": "code",
   "execution_count": 1,
   "metadata": {},
   "outputs": [
    {
     "data": {
      "text/plain": [
       "3"
      ]
     },
     "execution_count": 1,
     "metadata": {},
     "output_type": "execute_result"
    }
   ],
   "source": [
    "abs(-3)"
   ]
  },
  {
   "cell_type": "code",
   "execution_count": 47,
   "metadata": {},
   "outputs": [
    {
     "name": "stdout",
     "output_type": "stream",
     "text": [
      "2\n",
      "3.14\n",
      "(1+6j)\n",
      "hello world\n",
      "[1, 2, 3]\n",
      "(1, 2, 3, 4)\n",
      "{'name': 'hyemin', 'age': 28, 'gender': 'female'}\n"
     ]
    }
   ],
   "source": [
    "int_data=2\n",
    "float_data=3.14\n",
    "complex_data=1+6j\n",
    "str_data='hello world'\n",
    "list_data=[1,2,3]\n",
    "tuple_data=(1,2,3,4)\n",
    "dict_data={'name': 'hyemin', 'age': 28, 'gender': 'female'}\n",
    "print(int_data)\n",
    "print(float_data)\n",
    "print(complex_data)\n",
    "print(str_data)\n",
    "print(list_data)\n",
    "print(tuple_data)\n",
    "print(dict_data)"
   ]
  },
  {
   "cell_type": "code",
   "execution_count": 5,
   "metadata": {},
   "outputs": [
    {
     "name": "stdout",
     "output_type": "stream",
     "text": [
      "hello world\n"
     ]
    }
   ],
   "source": [
    "print('hello', end=' ')\n",
    "print('world')"
   ]
  },
  {
   "cell_type": "code",
   "execution_count": 11,
   "metadata": {},
   "outputs": [
    {
     "name": "stdout",
     "output_type": "stream",
     "text": [
      "a 가 존재합니다.\n"
     ]
    }
   ],
   "source": [
    "listdata=['a', 'b', 'c']\n",
    "if 'a' in listdata:\n",
    "    print('a 가 존재합니다.')\n",
    "else:\n",
    "    print('없넹')"
   ]
  },
  {
   "cell_type": "code",
   "execution_count": 13,
   "metadata": {},
   "outputs": [
    {
     "name": "stdout",
     "output_type": "stream",
     "text": [
      "float 데이터가 더 크네\n"
     ]
    }
   ],
   "source": [
    "if int_data>=float_data:\n",
    "    print('int 데이터가 더 크네')\n",
    "else:\n",
    "    print('float 데이터가 더 크네')"
   ]
  },
  {
   "cell_type": "code",
   "execution_count": 14,
   "metadata": {},
   "outputs": [
    {
     "name": "stdout",
     "output_type": "stream",
     "text": [
      "float 가 더 큼\n"
     ]
    }
   ],
   "source": [
    "if int_data > float_data:\n",
    "    print('int 가 더 큼')\n",
    "elif int_data < float_data:\n",
    "    print('float 가 더 큼')\n",
    "else:\n",
    "    print('같음')"
   ]
  },
  {
   "cell_type": "code",
   "execution_count": 15,
   "metadata": {},
   "outputs": [
    {
     "name": "stdout",
     "output_type": "stream",
     "text": [
      "1\n",
      "2\n",
      "3\n",
      "4\n"
     ]
    }
   ],
   "source": [
    "for i in tuple_data:\n",
    "    print(i)"
   ]
  },
  {
   "cell_type": "code",
   "execution_count": 31,
   "metadata": {},
   "outputs": [
    {
     "name": "stdout",
     "output_type": "stream",
     "text": [
      "name is hyemin\n",
      "age is 28\n",
      "gender is female\n"
     ]
    }
   ],
   "source": [
    "for key in dict_data:\n",
    "    print(key + \" is \" + str(dict_data.get(key)))\n",
    "\n",
    "\n",
    "# for (key, value) in dic_data <- 요런방법은 안된다."
   ]
  },
  {
   "cell_type": "code",
   "execution_count": 30,
   "metadata": {},
   "outputs": [
    {
     "name": "stdout",
     "output_type": "stream",
     "text": [
      "[0] name is hyemin\n",
      "[1] age is 28\n",
      "[2] gender is female\n"
     ]
    }
   ],
   "source": [
    "# for 문의 index를 지정하고 싶은 경우 enumerate 를 사용한다.\n",
    "for (i, key) in enumerate(dict_data):\n",
    "    print(\"[\" + str(i), end=\"] \")\n",
    "    print(key + \" is \" + str(dict_data.get(key)))"
   ]
  },
  {
   "cell_type": "code",
   "execution_count": 32,
   "metadata": {},
   "outputs": [
    {
     "name": "stdout",
     "output_type": "stream",
     "text": [
      "1\n",
      "2\n",
      "3\n"
     ]
    }
   ],
   "source": [
    "for x in tuple_data:\n",
    "    print(x)\n",
    "    if x < 3:\n",
    "        continue\n",
    "    else:\n",
    "        break"
   ]
  },
  {
   "cell_type": "code",
   "execution_count": 35,
   "metadata": {},
   "outputs": [
    {
     "name": "stdout",
     "output_type": "stream",
     "text": [
      "1\n",
      "2\n",
      "3\n",
      "well done\n"
     ]
    }
   ],
   "source": [
    "# for ~ else 구문\n",
    "scope=[1,2,3]\n",
    "for x in scope:\n",
    "    print(x)\n",
    "#    break\n",
    "else:\n",
    "    print('well done')"
   ]
  },
  {
   "cell_type": "code",
   "execution_count": 37,
   "metadata": {},
   "outputs": [],
   "source": [
    "val=None"
   ]
  },
  {
   "cell_type": "code",
   "execution_count": 42,
   "metadata": {},
   "outputs": [
    {
     "name": "stdout",
     "output_type": "stream",
     "text": [
      "10\n",
      "16\n",
      "0x10\n"
     ]
    }
   ],
   "source": [
    "bin_data=10\n",
    "hex_data=0x10\n",
    "\n",
    "print(bin_data)\n",
    "print(hex_data)\n",
    "print(hex(hex_data))"
   ]
  },
  {
   "cell_type": "code",
   "execution_count": 46,
   "metadata": {},
   "outputs": [
    {
     "name": "stdout",
     "output_type": "stream",
     "text": [
      "1.0 3.14 1560.0 -7e-05\n"
     ]
    }
   ],
   "source": [
    "f1=1.0\n",
    "f2=3.14\n",
    "f3=1.56e3\n",
    "f4=-0.7e-4\n",
    "\n",
    "print(f1, f2, f3, f4)"
   ]
  },
  {
   "cell_type": "code",
   "execution_count": 50,
   "metadata": {},
   "outputs": [
    {
     "name": "stdout",
     "output_type": "stream",
     "text": [
      "3.0\n",
      "2.0\n"
     ]
    }
   ],
   "source": [
    "print(int_data+f1); print(int_data/f1)"
   ]
  },
  {
   "cell_type": "code",
   "execution_count": 60,
   "metadata": {},
   "outputs": [
    {
     "name": "stdout",
     "output_type": "stream",
     "text": [
      "1.0\n",
      "7.0\n",
      "(2+3j)\n"
     ]
    }
   ],
   "source": [
    "c1=1+7j\n",
    "print(c1.real)\n",
    "print(c1.imag)\n",
    "c2=complex(2,3)\n",
    "print(c2)"
   ]
  },
  {
   "cell_type": "code",
   "execution_count": 65,
   "metadata": {},
   "outputs": [
    {
     "name": "stdout",
     "output_type": "stream",
     "text": [
      "6 -2 8 16 0.5\n",
      "32\n"
     ]
    }
   ],
   "source": [
    "a=2\n",
    "b=4\n",
    "print(a+b, a-b, a*b, a**b, a/b)\n",
    "# 제곱연산이 사칙연산보다 우선한다.\n",
    "print(a*b**a)"
   ]
  },
  {
   "cell_type": "code",
   "execution_count": 67,
   "metadata": {},
   "outputs": [
    {
     "name": "stdout",
     "output_type": "stream",
     "text": [
      "True\n",
      "True\n"
     ]
    }
   ],
   "source": [
    "a=True #True(=1)\n",
    "b=False #False(=0)\n",
    "print(a==1)\n",
    "print(b==0)"
   ]
  },
  {
   "cell_type": "code",
   "execution_count": 72,
   "metadata": {},
   "outputs": [
    {
     "name": "stdout",
     "output_type": "stream",
     "text": [
      "True\n"
     ]
    }
   ],
   "source": [
    "compareStr1='abc'\n",
    "compareStr2='python'\n",
    "print(compareStr1<compareStr2)\n",
    "# 문자열의 비교는 사전순 비교 (사전값이 우선인 경우 더 작다.)"
   ]
  },
  {
   "cell_type": "code",
   "execution_count": 73,
   "metadata": {},
   "outputs": [
    {
     "name": "stdout",
     "output_type": "stream",
     "text": [
      "False True True\n"
     ]
    }
   ],
   "source": [
    "print(a and b, a or b, not b)"
   ]
  },
  {
   "cell_type": "code",
   "execution_count": 84,
   "metadata": {},
   "outputs": [
    {
     "name": "stdout",
     "output_type": "stream",
     "text": [
      "0b1100001 0b1100010\n",
      "0b1100000\n",
      "0b1100011\n",
      "0b11 0x3\n",
      "-0b1100010 -0x62\n"
     ]
    }
   ],
   "source": [
    "bit1=0x61\n",
    "bit2=0x62\n",
    "print(bin(bit1), bin(bit2))\n",
    "print(bin(bit1 & bit2))\n",
    "print(bin(bit1 | bit2))\n",
    "print(bin(bit1 ^ bit2), hex(bit1 ^ bit2)) # 같은 값인면 거짓, 다른 값이면 참\n",
    "print(bin(~bit1), hex(~bit1)) # 보수 표현"
   ]
  },
  {
   "cell_type": "code",
   "execution_count": 97,
   "metadata": {},
   "outputs": [],
   "source": [
    "strdata = 'abcde'\n",
    "listdata = [1, [2,3,4], 'hello']\n",
    "tupledata = (100, 200, 600, \"world\")\n",
    "testString = 'Time is money!!'\n",
    "\n",
    "# dictionary data 는 시퀀스 자료가 아니다...! for문은 돌아도 이건 안됨\n",
    "# 시퀀스 자료 => 배열로 표현 가능한 자료형"
   ]
  },
  {
   "cell_type": "code",
   "execution_count": 101,
   "metadata": {},
   "outputs": [
    {
     "name": "stdout",
     "output_type": "stream",
     "text": [
      "d [2, 3, 4] 4 100\n",
      "! y\n"
     ]
    }
   ],
   "source": [
    "print(strdata[3], listdata[1], listdata[1][2], tupledata[0])\n",
    "print(testString[13], testString[-3])"
   ]
  },
  {
   "cell_type": "code",
   "execution_count": 107,
   "metadata": {},
   "outputs": [
    {
     "name": "stdout",
     "output_type": "stream",
     "text": [
      "e is  ('world',) iio! Time is mone y!!\n"
     ]
    }
   ],
   "source": [
    "print(testString[3:8], tupledata[3:], testString[1::4], testString[:-3], testString[-3:])\n",
    "# [시작인덱스:끝인덱스:스텝(간격)]"
   ]
  },
  {
   "cell_type": "code",
   "execution_count": 108,
   "metadata": {},
   "outputs": [
    {
     "name": "stdout",
     "output_type": "stream",
     "text": [
      "[1, 2, 3, 1, [2, 3, 4], 'hello']\n"
     ]
    }
   ],
   "source": [
    "print(list_data+listdata)"
   ]
  },
  {
   "cell_type": "code",
   "execution_count": 110,
   "metadata": {},
   "outputs": [
    {
     "name": "stdout",
     "output_type": "stream",
     "text": [
      "Time is money!!Time is money!!\n",
      "[1, [2, 3, 4], 'hello', 1, [2, 3, 4], 'hello']\n"
     ]
    }
   ],
   "source": [
    "print(testString*2)\n",
    "print(listdata*2)"
   ]
  },
  {
   "cell_type": "code",
   "execution_count": 112,
   "metadata": {},
   "outputs": [
    {
     "name": "stdout",
     "output_type": "stream",
     "text": [
      "15\n",
      "4\n"
     ]
    }
   ],
   "source": [
    "print(len(testString))\n",
    "print(len(testString[1::4]))"
   ]
  },
  {
   "cell_type": "code",
   "execution_count": 124,
   "metadata": {},
   "outputs": [
    {
     "name": "stdout",
     "output_type": "stream",
     "text": [
      "True\n",
      "False\n",
      "False\n",
      "True\n",
      "True\n"
     ]
    }
   ],
   "source": [
    "print('Time' in testString)\n",
    "print('hello' in testString)\n",
    "print([2,3] in listdata)\n",
    "print([2,3,4] in listdata)\n",
    "print(2 in listdata[1] and 3 in listdata[1]) # 리스트 안에 리스트 값 일부들이 들어있는지 확인 X, 단일값만 확인"
   ]
  },
  {
   "cell_type": "code",
   "execution_count": null,
   "metadata": {},
   "outputs": [],
   "source": []
  }
 ],
 "metadata": {
  "kernelspec": {
   "display_name": "Python 3",
   "language": "python",
   "name": "python3"
  },
  "language_info": {
   "codemirror_mode": {
    "name": "ipython",
    "version": 3
   },
   "file_extension": ".py",
   "mimetype": "text/x-python",
   "name": "python",
   "nbconvert_exporter": "python",
   "pygments_lexer": "ipython3",
   "version": "3.6.3"
  }
 },
 "nbformat": 4,
 "nbformat_minor": 2
}
