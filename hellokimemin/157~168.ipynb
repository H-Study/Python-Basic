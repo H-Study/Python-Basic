{
 "cells": [
  {
   "cell_type": "code",
   "execution_count": 2,
   "metadata": {},
   "outputs": [],
   "source": [
    "from time import localtime, strftime\n",
    "\n",
    "logfile = 'time_test.log'\n",
    "\n",
    "def writelog(logfile, log):\n",
    "    time_stamp = strftime('%Y-%m-%d %X\\t', localtime())\n",
    "    log = time_stamp + log + '\\n'\n",
    "\n",
    "    # open option\n",
    "    # r: 읽기모드 - 파일을 읽기만 할 때 사용\n",
    "    # w: 쓰기모드 - 파일에 내용을 쓸 때 사용\n",
    "    # a: 추가모드 - 파일의 마지막에 새로운 내용을 추가 시킬 때 사용\n",
    "    with open(\"result/\" + logfile, 'a') as f:\n",
    "        f.writelines(log)\n",
    "\n",
    "writelog(logfile, '첫 번째 로깅 문장입니다.')"
   ]
  },
  {
   "cell_type": "code",
   "execution_count": 3,
   "metadata": {},
   "outputs": [
    {
     "name": "stdout",
     "output_type": "stream",
     "text": [
      "오늘은 [2018-01-01]이후 [41]일째 되는 날입니다.\n"
     ]
    }
   ],
   "source": [
    "from time import localtime\n",
    "\n",
    "t = localtime()\n",
    "start_day = '%d-01-01' %t.tm_year\n",
    "elapsed_day = t.tm_yday\n",
    "\n",
    "print('오늘은 [%s]이후 [%d]일째 되는 날입니다.' %(start_day, elapsed_day))"
   ]
  },
  {
   "cell_type": "code",
   "execution_count": 5,
   "metadata": {},
   "outputs": [
    {
     "name": "stdout",
     "output_type": "stream",
     "text": [
      "[2018-2-10] 오늘은 [토요일]입니다.\n",
      "[2018-02-10] 오늘은 [토요일]입니다.\n"
     ]
    }
   ],
   "source": [
    "from time import localtime, strftime\n",
    "\n",
    "weekdays = ['월요일', '화요일', '수요일', '목요일', '금요일', '토요일', '일요일']\n",
    "\n",
    "t = localtime()\n",
    "today = '%d-%d-%d' %(t.tm_year, t.tm_mon, t.tm_mday)\n",
    "week = weekdays[t.tm_wday]\n",
    "\n",
    "print('[%s] 오늘은 [%s]입니다.' %(today, week))\n",
    "print('[%s] 오늘은 [%s]입니다.' %(strftime('%Y-%m-%d', t), week))"
   ]
  },
  {
   "cell_type": "code",
   "execution_count": 7,
   "metadata": {},
   "outputs": [
    {
     "name": "stdout",
     "output_type": "stream",
     "text": [
      "1에서 백만까지 더합니다.\n",
      "1에서 백만까지 더한 결과 499999500000\n",
      "총 계산 시간: 0:00:00.158369\n",
      "총 계산 시간: 158ms\n"
     ]
    }
   ],
   "source": [
    "from datetime import datetime\n",
    "\n",
    "start = datetime.now()\n",
    "print('1에서 백만까지 더합니다.')\n",
    "ret = 0\n",
    "for i in range(1000000):\n",
    "    ret += i\n",
    "\n",
    "print('1에서 백만까지 더한 결과 %d' %ret)\n",
    "end = datetime.now()\n",
    "elapsed = end - start\n",
    "print('총 계산 시간: ', end ='');print(elapsed)\n",
    "elapsed_dms = int(elapsed.total_seconds() * 1000)\n",
    "print('총 계산 시간: %dms' %elapsed_dms)\n"
   ]
  },
  {
   "cell_type": "code",
   "execution_count": 10,
   "metadata": {},
   "outputs": [
    {
     "name": "stdout",
     "output_type": "stream",
     "text": [
      "아무 숫자를 입력하세요.1234567890123456789\n",
      "9876543210987654321\n",
      "1,234,567,890,123,456,789\n"
     ]
    }
   ],
   "source": [
    "num = input('아무 숫자를 입력하세요.')\n",
    "\n",
    "print(num[::-1])\n",
    "if num.isdigit():\n",
    "    num = num[::-1]\n",
    "    ret = ''\n",
    "    for i,c in enumerate(num):\n",
    "        i+=1\n",
    "        if i != len(num) and i%3 == 0:\n",
    "            ret += (c + ',')\n",
    "        else:\n",
    "            ret += c\n",
    "    ret = ret[::-1]\n",
    "    print(ret)\n",
    "else:\n",
    "    print('입력한 내용[%s]: 숫자가 아닙니다.' %num)"
   ]
  },
  {
   "cell_type": "code",
   "execution_count": 11,
   "metadata": {},
   "outputs": [
    {
     "name": "stdout",
     "output_type": "stream",
     "text": [
      "문장을 입력하세요123123\n",
      "231231\n"
     ]
    }
   ],
   "source": [
    "text = input('문장을 입력하세요')\n",
    "\n",
    "ret = ''\n",
    "for i in range(len(text)):\n",
    "    if i != len(text) -1:\n",
    "        ret += text[i+1]\n",
    "    else:\n",
    "        ret += text[0]\n",
    "        \n",
    "print(ret)"
   ]
  },
  {
   "cell_type": "code",
   "execution_count": 12,
   "metadata": {},
   "outputs": [
    {
     "name": "stdout",
     "output_type": "stream",
     "text": [
      "news.naver.com\n"
     ]
    }
   ],
   "source": [
    "url = 'http://news.naver.com/main/read.nhn?mode=LSD&mid=shm&sid1=105&oid=028&aid=00023334601'\n",
    "\n",
    "tmp = url.split('/')\n",
    "domain = tmp[2]\n",
    "print(domain)"
   ]
  },
  {
   "cell_type": "code",
   "execution_count": 14,
   "metadata": {},
   "outputs": [
    {
     "name": "stdout",
     "output_type": "stream",
     "text": [
      "mode=LSD\n",
      "mid=shm\n",
      "sid1=105\n",
      "oid=028\n",
      "aid=00023334601\n"
     ]
    }
   ],
   "source": [
    "tmp = url.split('?')\n",
    "queries = tmp[1].split('&')\n",
    "for query in queries:\n",
    "    print(query)"
   ]
  },
  {
   "cell_type": "code",
   "execution_count": 16,
   "metadata": {},
   "outputs": [
    {
     "name": "stdout",
     "output_type": "stream",
     "text": [
      "<스택상태>: ['데이터1', [3, 4, 5, 6], 12345]\n",
      "스택에서 데이터 추출:12345\n",
      "<스택상태>: ['데이터1', [3, 4, 5, 6]]\n",
      "스택에서 데이터 추출:[3, 4, 5, 6]\n",
      "<스택상태>: ['데이터1']\n",
      "스택에서 데이터 추출:데이터1\n",
      "<스택상태>: []\n"
     ]
    }
   ],
   "source": [
    "mystack = []\n",
    "\n",
    "def putdata(data):\n",
    "    global mystack\n",
    "    mystack.append(data)\n",
    "    \n",
    "def popdata():\n",
    "    global mystack\n",
    "    if len(mystack) == 0:\n",
    "        return None\n",
    "    return mystack.pop()\n",
    "\n",
    "putdata('데이터1')\n",
    "putdata([3,4,5,6])\n",
    "putdata(12345)\n",
    "\n",
    "print('<스택상태>: ', end='');print(mystack)\n",
    "\n",
    "ret = popdata()\n",
    "while ret!=None:\n",
    "    print('스택에서 데이터 추출:', end='');print(ret)\n",
    "    print('<스택상태>: ', end='');print(mystack)\n",
    "    ret = popdata()"
   ]
  },
  {
   "cell_type": "code",
   "execution_count": 18,
   "metadata": {},
   "outputs": [
    {
     "name": "stdout",
     "output_type": "stream",
     "text": [
      "[ ] -> [177]회 나타남\n",
      "[e] -> [97]회 나타남\n",
      "[t] -> [85]회 나타남\n",
      "[a] -> [78]회 나타남\n",
      "[o] -> [73]회 나타남\n",
      "[n] -> [60]회 나타남\n",
      "[s] -> [60]회 나타남\n",
      "[r] -> [54]회 나타남\n",
      "[i] -> [50]회 나타남\n",
      "[h] -> [48]회 나타남\n",
      "[l] -> [34]회 나타남\n",
      "[u] -> [27]회 나타남\n",
      "[d] -> [24]회 나타남\n",
      "[c] -> [23]회 나타남\n",
      "[w] -> [20]회 나타남\n",
      "[m] -> [20]회 나타남\n",
      "[f] -> [17]회 나타남\n",
      "[y] -> [15]회 나타남\n",
      "[p] -> [15]회 나타남\n",
      "[b] -> [13]회 나타남\n",
      "[g] -> [11]회 나타남\n",
      "[v] -> [9]회 나타남\n",
      "['] -> [8]회 나타남\n",
      "[k] -> [7]회 나타남\n",
      "[!] -> [2]회 나타남\n"
     ]
    }
   ],
   "source": [
    "def getTextFreg(filename):\n",
    "    with open(filename, 'r') as f:\n",
    "        text = f.read()\n",
    "        fa = {}\n",
    "        for c in text:\n",
    "            if c in fa:\n",
    "                fa[c] += 1\n",
    "            else:\n",
    "                fa[c] = 1\n",
    "    return fa\n",
    "ret = getTextFreg('../sourcecode/mydata.txt')\n",
    "ret = sorted(ret.items(), key=lambda x:x[1], reverse=True)\n",
    "for c, freq in ret:\n",
    "    if c == '\\n':\n",
    "        continue\n",
    "\n",
    "    print('[%c] -> [%d]회 나타남' %(c, freq))"
   ]
  },
  {
   "cell_type": "code",
   "execution_count": 19,
   "metadata": {},
   "outputs": [
    {
     "name": "stdout",
     "output_type": "stream",
     "text": [
      "단어수: [10]\n"
     ]
    }
   ],
   "source": [
    "with open('mydata.txt', 'r') as f:\n",
    "    data = f.read()\n",
    "    tmp = data.split()\n",
    "    print('단어수: [%d]' %len(tmp))"
   ]
  },
  {
   "cell_type": "code",
   "execution_count": 25,
   "metadata": {},
   "outputs": [
    {
     "name": "stdout",
     "output_type": "stream",
     "text": [
      "mydata.txt에서 개수를 구할 단어를 입력하세요: !\n",
      "[!]의 개수:2\n"
     ]
    }
   ],
   "source": [
    "def countWord(filename, word):\n",
    "    with open(filename, 'r') as f:\n",
    "        text = f.read()\n",
    "        text = text.lower()\n",
    "        pos = text.find(word)\n",
    "        count = 0\n",
    "        while pos != -1:\n",
    "            count += 1\n",
    "            pos = text.find(word, pos+1)\n",
    "    return count\n",
    "\n",
    "word = input('mydata.txt에서 개수를 구할 단어를 입력하세요: ')\n",
    "word = word.lower()\n",
    "ret = countWord('../sourcecode/mydata.txt', word)\n",
    "print('[%s]의 개수:%d' %(word, ret))"
   ]
  },
  {
   "cell_type": "code",
   "execution_count": null,
   "metadata": {},
   "outputs": [],
   "source": []
  }
 ],
 "metadata": {
  "kernelspec": {
   "display_name": "Python 3",
   "language": "python",
   "name": "python3"
  },
  "language_info": {
   "codemirror_mode": {
    "name": "ipython",
    "version": 3
   },
   "file_extension": ".py",
   "mimetype": "text/x-python",
   "name": "python",
   "nbconvert_exporter": "python",
   "pygments_lexer": "ipython3",
   "version": "3.6.3"
  }
 },
 "nbformat": 4,
 "nbformat_minor": 2
}
