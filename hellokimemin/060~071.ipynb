{
 "cells": [
  {
   "cell_type": "code",
   "execution_count": 37,
   "metadata": {},
   "outputs": [
    {
     "name": "stdout",
     "output_type": "stream",
     "text": [
      "<값>을 입력하세요:123\n",
      "당신이 입력한 값은 <123> 입니다\n"
     ]
    }
   ],
   "source": [
    "k = input('<값>을 입력하세요:')\n",
    "\n",
    "print('당신이 입력한 값은 <%s> 입니다' %k)"
   ]
  },
  {
   "cell_type": "code",
   "execution_count": 34,
   "metadata": {},
   "outputs": [
    {
     "name": "stdout",
     "output_type": "stream",
     "text": [
      "<class 'int'>\n",
      "True\n",
      "True\n",
      "<class 'str'>\n",
      "<class 'list'>\n",
      "<class 'dict'>\n",
      "<class 'function'>\n",
      "True\n",
      ">>> is function\n"
     ]
    }
   ],
   "source": [
    "numdata = 57\n",
    "strdata = '파이썬'\n",
    "listdata = [1,2,3]\n",
    "dictdata = {'a':1,'b': 2}\n",
    "\n",
    "def func():\n",
    "    print('안녕하세요')\n",
    "\n",
    "print(type(numdata))\n",
    "print(type(numdata) is int)\n",
    "print(type(numdata) == int)\n",
    "print(type(strdata))\n",
    "print(type(listdata))\n",
    "print(type(dictdata))\n",
    "print(type(func))\n",
    "print(callable(func))\n",
    "\n",
    "# type check \n",
    "\n",
    "if callable(func):\n",
    "    print(\">>> is function\")"
   ]
  },
  {
   "cell_type": "code",
   "execution_count": 36,
   "metadata": {},
   "outputs": [
    {
     "name": "stdout",
     "output_type": "stream",
     "text": [
      "<11113>를 <23>로 나누면 <4>가 나머지로 남습니다.\n"
     ]
    }
   ],
   "source": [
    "a = 11113\n",
    "b = 23\n",
    "ret = a%b\n",
    "print('<%d>를 <%d>로 나누면 <%d>가 나머지로 남습니다.' %(a,b,ret))"
   ]
  },
  {
   "cell_type": "code",
   "execution_count": 38,
   "metadata": {},
   "outputs": [
    {
     "name": "stdout",
     "output_type": "stream",
     "text": [
      "<11113/23>는 몫이 <483>, 나머지가 <4>입니다.\n"
     ]
    }
   ],
   "source": [
    "a = 11113\n",
    "b = 23\n",
    "ret1, ret2 = divmod(a,b)\n",
    "print('<%d/%d>는 몫이 <%d>, 나머지가 <%d>입니다.' %(a,b,ret1,ret2))"
   ]
  },
  {
   "cell_type": "code",
   "execution_count": 48,
   "metadata": {},
   "outputs": [
    {
     "name": "stdout",
     "output_type": "stream",
     "text": [
      "0x610x62\n",
      "195\n",
      "0xc3\n"
     ]
    }
   ],
   "source": [
    "h1 = hex(97) # 변환은 되지만 이것은 string 으로 취급된다\n",
    "h2 = hex(98)\n",
    "ret = h1 + h2\n",
    "print(ret)\n",
    "a = int(h1, 16) #16진수를 10진수로 변환한다\n",
    "b = int(h2, 16)\n",
    "ret2 = a + b\n",
    "print(ret2)\n",
    "print(hex(ret2))"
   ]
  },
  {
   "cell_type": "code",
   "execution_count": 47,
   "metadata": {},
   "outputs": [
    {
     "name": "stdout",
     "output_type": "stream",
     "text": [
      "0b11000010b1100010\n",
      "195\n"
     ]
    }
   ],
   "source": [
    "b1 = bin(97)\n",
    "b2 = bin(98)\n",
    "ret1 = b1 + b2\n",
    "print(ret1)\n",
    "a = int(b1, 2) # 2진수를 10진수로 변환한다\n",
    "b = int(b2, 2)\n",
    "ret2 = a+b\n",
    "print(ret2)"
   ]
  },
  {
   "cell_type": "code",
   "execution_count": 49,
   "metadata": {},
   "outputs": [
    {
     "name": "stdout",
     "output_type": "stream",
     "text": [
      "240\n",
      "240\n",
      "240\n",
      "240\n",
      "240\n",
      "240\n"
     ]
    }
   ],
   "source": [
    "# 다양한 x진수 표현 변환\n",
    "\n",
    "bnum = 0b11110000; bstr = '0b11110000'\n",
    "onum = 0o360; ostr = '0o360'\n",
    "hnum = 0xf0; hstr = '0xf0'\n",
    "\n",
    "b1 = int(bnum); b2 = int(bstr, 2)\n",
    "o1 = int(onum); o2 = int(ostr, 8)\n",
    "h1 = int(hnum); h2 = int(hstr, 16)\n",
    "\n",
    "print(b1);print(b2)\n",
    "print(o1);print(o2)\n",
    "print(h1);print(h2)"
   ]
  },
  {
   "cell_type": "code",
   "execution_count": 50,
   "metadata": {},
   "outputs": [
    {
     "name": "stdout",
     "output_type": "stream",
     "text": [
      "3\n",
      "5.72\n",
      "5.0\n"
     ]
    }
   ],
   "source": [
    "abs1 = abs(-3)\n",
    "abs2 = abs(-5.72)\n",
    "abs3 = abs(3+4j) # 복소수의 크기는 root(a^2 + b^2) 이다\n",
    "\n",
    "print(abs1)\n",
    "print(abs2)\n",
    "print(abs3)"
   ]
  },
  {
   "cell_type": "code",
   "execution_count": 51,
   "metadata": {},
   "outputs": [
    {
     "name": "stdout",
     "output_type": "stream",
     "text": [
      "1118\n",
      "17\n",
      "1120\n",
      "16.55\n"
     ]
    }
   ],
   "source": [
    "ret1 = round(1118)   # 소수점 첫번째 자리에서 반올림\n",
    "ret2 = round(16.554)\n",
    "ret3 = round(1118, -1) # 첫번째 자리에서 반올림\n",
    "ret4 = round(16.554, 2) # 소수점 세번째 자리에서 반올림\n",
    "\n",
    "print(ret1)\n",
    "print(ret2)\n",
    "print(ret3)\n",
    "print(ret4)"
   ]
  },
  {
   "cell_type": "code",
   "execution_count": 52,
   "metadata": {},
   "outputs": [
    {
     "name": "stdout",
     "output_type": "stream",
     "text": [
      "-5\n",
      "17\n",
      "171\n"
     ]
    }
   ],
   "source": [
    "idata1 = int(-5.4)\n",
    "idata2 = int(1.78e1)\n",
    "idata3 = int(171.56)\n",
    "\n",
    "print(idata1)\n",
    "print(idata2)\n",
    "print(idata3)"
   ]
  },
  {
   "cell_type": "code",
   "execution_count": 53,
   "metadata": {},
   "outputs": [
    {
     "name": "stdout",
     "output_type": "stream",
     "text": [
      "10.0\n"
     ]
    }
   ],
   "source": [
    "fdata = float(10)\n",
    "print(fdata)"
   ]
  },
  {
   "cell_type": "code",
   "execution_count": 56,
   "metadata": {},
   "outputs": [
    {
     "name": "stdout",
     "output_type": "stream",
     "text": [
      "[117, 119, 1113, 11113, 11119]\n"
     ]
    }
   ],
   "source": [
    "\n",
    "# 소수 판별 함수\n",
    "def getPrime(x):\n",
    "    for i in range(2, x-1):\n",
    "        if x%i == 0:\n",
    "            break\n",
    "        else:\n",
    "            return x\n",
    "\n",
    "listdata = [117, 119, 1113, 11113, 11119]\n",
    "\n",
    "#filter 함수 : 특정 조건을 만족하는 값만 추출함 : 사용 방법에 유의하자\n",
    "ret = filter(getPrime, listdata)\n",
    "print(list(ret))"
   ]
  },
  {
   "cell_type": "code",
   "execution_count": 63,
   "metadata": {},
   "outputs": [
    {
     "name": "stdout",
     "output_type": "stream",
     "text": [
      "입력한 값까지의 소수를 찾아 드립니다 : 30\n",
      "[2, 3, 5, 7, 11, 13, 17, 19, 23, 29]\n"
     ]
    }
   ],
   "source": [
    "\n",
    "# inputValue까지의 숫자중 소수를 return 하는 함수\n",
    "def getPrimeBy(inputValue):\n",
    "    target = int(inputValue)\n",
    "\n",
    "    if target == 1:\n",
    "        return []\n",
    "\n",
    "    retList = []  # retValue\n",
    "    for i in range(2, target):  # i is 테스트할 대상\n",
    "\n",
    "        # 소수인지 여부 flag\n",
    "        isPrime = True\n",
    "\n",
    "        if i > 2:    # 2는 소수이므로 pass\n",
    "            for j in range(2, i-1):\n",
    "                # 2부터 i-1 까지의 수로 나눈다                \n",
    "                if i%j == 0:\n",
    "                    isPrime = False\n",
    "                    break\n",
    "        \n",
    "        if isPrime:\n",
    "            retList.append(i)\n",
    "\n",
    "    return retList\n",
    "\n",
    "retVal = input('입력한 값까지의 소수를 찾아 드립니다 : ')\n",
    "result = getPrimeBy(retVal)\n",
    "print(result)"
   ]
  },
  {
   "cell_type": "code",
   "execution_count": null,
   "metadata": {},
   "outputs": [],
   "source": []
  }
 ],
 "metadata": {
  "kernelspec": {
   "display_name": "Python 3",
   "language": "python",
   "name": "python3"
  },
  "language_info": {
   "codemirror_mode": {
    "name": "ipython",
    "version": 3
   },
   "file_extension": ".py",
   "mimetype": "text/x-python",
   "name": "python",
   "nbconvert_exporter": "python",
   "pygments_lexer": "ipython3",
   "version": "3.6.3"
  }
 },
 "nbformat": 4,
 "nbformat_minor": 2
}
