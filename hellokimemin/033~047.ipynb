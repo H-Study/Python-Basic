{
 "cells": [
  {
   "cell_type": "code",
   "execution_count": 2,
   "metadata": {},
   "outputs": [
    {
     "name": "stdout",
     "output_type": "stream",
     "text": [
      "hello world good job \n",
      "    what a beautiful world!\n",
      "\n"
     ]
    }
   ],
   "source": [
    "strdata1 = 'hello world'\n",
    "strdata2 = \"good job\"\n",
    "\n",
    "# 주석으로도 사용할 수 있고 multi-line string 으로도 쓸 수 있다.\n",
    "strdata3 = \"\"\"\n",
    "    what a beautiful world!\n",
    "\"\"\"\n",
    "print(strdata1, strdata2, strdata3)"
   ]
  },
  {
   "cell_type": "code",
   "execution_count": 6,
   "metadata": {},
   "outputs": [
    {
     "name": "stdout",
     "output_type": "stream",
     "text": [
      "나는 python보다 java에 더 익숙합니다.\n",
      "python은 java보다 5배 더 쉽습니다.\n"
     ]
    }
   ],
   "source": [
    "type1 = 'java'; type2 = 'python'\n",
    "numType1 = 5; numType2 = 10\n",
    "print('나는 %s보다 %s에 더 익숙합니다.' %(type2, type1))\n",
    "print('%s은 %s보다 %d배 더 쉽습니다.' %(type2, type1, numType1))"
   ]
  },
  {
   "cell_type": "code",
   "execution_count": 12,
   "metadata": {},
   "outputs": [
    {
     "name": "stdout",
     "output_type": "stream",
     "text": [
      "진행률 100%"
     ]
    }
   ],
   "source": [
    "from time import sleep\n",
    "for i in range(100):\n",
    "    msg = '\\r진행률 %d%%' %(i+1)\n",
    "    print(''*len(msg), end='')\n",
    "    print(msg, end='')\n",
    "    sleep(0.1) #thread sleep"
   ]
  },
  {
   "cell_type": "code",
   "execution_count": 13,
   "metadata": {},
   "outputs": [
    {
     "name": "stdout",
     "output_type": "stream",
     "text": [
      "안녕 여러분\n",
      "데헷데헷\n",
      "이것은 이스케이프 문자 테스트\t탭은 언제나 좋음\n",
      "오호오호호호\n",
      "영어로 '의 이름과 \"의 이름은 무엇인가\n"
     ]
    }
   ],
   "source": [
    "print('안녕 여러분\\n데헷데헷')\n",
    "print('이것은 이스케이프 문자 테스트\\t탭은 언제나 좋음')\n",
    "print('오호\\\n",
    "오호호호')\n",
    "print('영어로 \\'의 이름과 \\\"의 이름은 무엇인가')"
   ]
  },
  {
   "cell_type": "code",
   "execution_count": 19,
   "metadata": {},
   "outputs": [
    {
     "name": "stdout",
     "output_type": "stream",
     "text": [
      "[1, 2, 3, 4, 5]\n",
      "[6, 2, 3, 4, 5]\n",
      "[6, 2, 3, <function myfunc at 0x10a902378>, 5]\n",
      "안녕하세요\n"
     ]
    }
   ],
   "source": [
    "list1 = [1,2,3,4,5]\n",
    "print(list1)\n",
    "list1[0] = 6\n",
    "print(list1)\n",
    "\n",
    "def myfunc():\n",
    "    print('안녕하세요')\n",
    "list1[3] = myfunc\n",
    "print(list1)\n",
    "list1[3]()"
   ]
  },
  {
   "cell_type": "code",
   "execution_count": 26,
   "metadata": {},
   "outputs": [
    {
     "name": "stdout",
     "output_type": "stream",
     "text": [
      "(1, 2, 3, 4, 5)\n",
      "안녕하세요\n"
     ]
    }
   ],
   "source": [
    "tuple1 = (1,2,3,4,5)\n",
    "print(tuple1)\n",
    "# tuple1[0]=6  #  is not working. tuple 은 가변형 자료형이 아니다\n",
    "\n",
    "tuple2 = (myfunc, 3,4,5)\n",
    "tuple2[0]()"
   ]
  },
  {
   "cell_type": "code",
   "execution_count": 34,
   "metadata": {},
   "outputs": [
    {
     "name": "stdout",
     "output_type": "stream",
     "text": [
      "1\n",
      "{'a': 1, 'b': 2, 'c': 3, 'd': 4}\n",
      "{'a': 7, 'b': 2, 'c': 3, 'd': 4}\n",
      "4\n"
     ]
    }
   ],
   "source": [
    "dict1 = {'a':1, 'b':2, 'c':3}\n",
    "print(dict1['a'])\n",
    "dict1['d'] = 4\n",
    "print(dict1)\n",
    "dict1['a'] = 7\n",
    "print(dict1)\n",
    "print(len(dict1))"
   ]
  },
  {
   "cell_type": "code",
   "execution_count": 37,
   "metadata": {},
   "outputs": [
    {
     "name": "stdout",
     "output_type": "stream",
     "text": [
      "25\n",
      "대한민국~만세!!\n"
     ]
    }
   ],
   "source": [
    "def add_number(n1, n2):\n",
    "    ret = n1 + n2\n",
    "    return ret\n",
    "\n",
    "def add_text(txt1, txt2):\n",
    "    print(txt1 + txt2)\n",
    "\n",
    "ans = add_number(10, 15)\n",
    "print(ans)\n",
    "\n",
    "text1 = '대한민국~'\n",
    "text2 = '만세!!'\n",
    "add_text(text1, text2)"
   ]
  },
  {
   "cell_type": "code",
   "execution_count": 42,
   "metadata": {},
   "outputs": [
    {
     "name": "stdout",
     "output_type": "stream",
     "text": [
      "베스트:파이썬\n",
      "1등:대한민국\n",
      "()\n",
      "(3, 5, 1, 5)\n",
      "{}\n",
      "{'depth': 50, 'color': 'blue'}\n"
     ]
    }
   ],
   "source": [
    "def add_txt(t1, t2='파이썬'):\n",
    "    print(t1 + ':' + t2)\n",
    "\n",
    "add_txt('베스트')\n",
    "add_txt(t2='대한민국', t1='1등')\n",
    "\n",
    "# *args 미정인자\n",
    "def func1(*args):\n",
    "    print(args)\n",
    "\n",
    "# **kwargs 미정키워드인자\n",
    "def func2(width, height, **kwargs):\n",
    "    print(kwargs)\n",
    "\n",
    "func1()\n",
    "func1(3, 5, 1, 5)\n",
    "func2(10, 20)\n",
    "func2(10, 20, depth=50, color='blue')"
   ]
  },
  {
   "cell_type": "code",
   "execution_count": 49,
   "metadata": {},
   "outputs": [
    {
     "name": "stdout",
     "output_type": "stream",
     "text": [
      "지역변수\n",
      "전역변수\n",
      "10\n",
      "50\n"
     ]
    }
   ],
   "source": [
    "param = 10;\n",
    "strdata = '전역변수'\n",
    "\n",
    "def func1():\n",
    "    strdata = '지역변수'\n",
    "    print(strdata)\n",
    "\n",
    "def func2():\n",
    "    param = 1\n",
    "\n",
    "def func3():\n",
    "    global param\n",
    "    param = 50\n",
    "\n",
    "func1()\n",
    "print(strdata)\n",
    "func2()\n",
    "print(param)\n",
    "func3()\n",
    "print(param)"
   ]
  },
  {
   "cell_type": "code",
   "execution_count": 56,
   "metadata": {},
   "outputs": [
    {
     "name": "stdout",
     "output_type": "stream",
     "text": [
      "(3, 2, 1)\n",
      "c b a\n"
     ]
    }
   ],
   "source": [
    "def reverse(x, y, z):\n",
    "    return z, y, x\n",
    "\n",
    "ret = reverse(1, 2, 3)\n",
    "print(ret)\n",
    "\n",
    "r1, r2, r3 = reverse('a', 'b', 'c')\n",
    "print(r1, r2, r3)"
   ]
  },
  {
   "cell_type": "code",
   "execution_count": 57,
   "metadata": {},
   "outputs": [
    {
     "name": "stdout",
     "output_type": "stream",
     "text": [
      "5초간 프로그램을 정지합니다.\n",
      "5초 지남\n"
     ]
    }
   ],
   "source": [
    "import time\n",
    "print('5초간 프로그램을 정지합니다.')\n",
    "time.sleep(5)\n",
    "print('5초 지남')"
   ]
  },
  {
   "cell_type": "code",
   "execution_count": null,
   "metadata": {},
   "outputs": [],
   "source": []
  }
 ],
 "metadata": {
  "kernelspec": {
   "display_name": "Python 3",
   "language": "python",
   "name": "python3"
  },
  "language_info": {
   "codemirror_mode": {
    "name": "ipython",
    "version": 3
   },
   "file_extension": ".py",
   "mimetype": "text/x-python",
   "name": "python",
   "nbconvert_exporter": "python",
   "pygments_lexer": "ipython3",
   "version": "3.6.3"
  }
 },
 "nbformat": 4,
 "nbformat_minor": 2
}
