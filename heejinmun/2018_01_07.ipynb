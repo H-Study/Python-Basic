{
 "cells": [
  {
   "cell_type": "code",
   "execution_count": 1,
   "metadata": {},
   "outputs": [],
   "source": [
    "f1 = open('text.txt','r')\n",
    "f2 = open('/Users/mun/Documents/pythonstudy/Python-Basic/heejinmun/text.txt','rb')\n",
    "\n",
    "\n",
    "f1.close()\n",
    "f2.close()\n",
    "\n",
    "\n"
   ]
  },
  {
   "cell_type": "code",
   "execution_count": 2,
   "metadata": {},
   "outputs": [],
   "source": [
    "f1 = open('text.txt','a')\n",
    "\n"
   ]
  },
  {
   "cell_type": "code",
   "execution_count": 3,
   "metadata": {},
   "outputs": [
    {
     "name": "stdout",
     "output_type": "stream",
     "text": [
      "안녕하세요\n",
      "안녕하세요\n"
     ]
    }
   ],
   "source": [
    "class MyClass:\n",
    "    var = '안녕하세요'\n",
    "    def sayHello(self):\n",
    "        print(self.var)\n",
    "        \n",
    "obj = MyClass()\n",
    "print(obj.var)\n",
    "obj.sayHello()"
   ]
  },
  {
   "cell_type": "code",
   "execution_count": 4,
   "metadata": {},
   "outputs": [
    {
     "name": "stdout",
     "output_type": "stream",
     "text": [
      "안녕하세요\n",
      "안녕하세요\n"
     ]
    }
   ],
   "source": [
    "class MyClass:\n",
    "    var = '안녕하세요'\n",
    "    def sayHello(this):\n",
    "        print(this.var)\n",
    "        \n",
    "obj = MyClass()\n",
    "print(obj.var)\n",
    "obj.sayHello()"
   ]
  },
  {
   "cell_type": "code",
   "execution_count": 16,
   "metadata": {},
   "outputs": [
    {
     "name": "stdout",
     "output_type": "stream",
     "text": [
      "ㅎㅏㅇㅣ\n",
      "ㅎㅏㅇㅣ\n"
     ]
    },
    {
     "data": {
      "text/plain": [
       "'ㅎㅏㅇㅣ'"
      ]
     },
     "execution_count": 16,
     "metadata": {},
     "output_type": "execute_result"
    }
   ],
   "source": [
    "class MyClass:\n",
    "        var = '안녕하세요!!'\n",
    "        def sayHello(self):\n",
    "            param1 = 'ㅇㅏㄴㄴㅕㅇ'\n",
    "            self.param2 = 'ㅎㅏㅇㅣ'\n",
    "            print(self.param2)\n",
    "            \n",
    "obj = MyClass()\n",
    "\n",
    "obj.sayHello()\n",
    "print(obj.param2)\n",
    "obj.param2\n"
   ]
  },
  {
   "cell_type": "code",
   "execution_count": 23,
   "metadata": {},
   "outputs": [
    {
     "name": "stdout",
     "output_type": "stream",
     "text": [
      "안녕하세요\n",
      "혜민! 다음에 보자!\n"
     ]
    }
   ],
   "source": [
    "class MyClass:\n",
    "        var = '안녕하세요!!'\n",
    "        def sayHello(self):\n",
    "            print(\"안녕하세요\")\n",
    "            \n",
    "        def sayBye(self, name):\n",
    "            print('%s! 다음에 보자!'%name)\n",
    "            \n",
    "obj = MyClass()\n",
    "\n",
    "obj.sayHello()\n",
    "obj.sayBye('혜민')"
   ]
  },
  {
   "cell_type": "code",
   "execution_count": 27,
   "metadata": {},
   "outputs": [
    {
     "name": "stdout",
     "output_type": "stream",
     "text": [
      "MyClass ㅇㅣㄴㅅㅡㅌㅓㄴㅅㅡ ㄱㅐㄱㅊㅔㄱㅏ ㅅㅐㅇㅅㅓㅇㄷㅗㅣㅇㅓㅆㅅㅡㅂㄴㅣㄷㅏ.\n",
      "ㅇㅏㄴㄴㅕㅇㅎㅏㅅㅔㅇㅛ\n"
     ]
    }
   ],
   "source": [
    "class MyClass:\n",
    "    def __init__(self):\n",
    "        self.var = 'ㅇㅏㄴㄴㅕㅇㅎㅏㅅㅔㅇㅛ'\n",
    "        print(\"MyClass ㅇㅣㄴㅅㅡㅌㅓㄴㅅㅡ ㄱㅐㄱㅊㅔㄱㅏ ㅅㅐㅇㅅㅓㅇㄷㅗㅣㅇㅓㅆㅅㅡㅂㄴㅣㄷㅏ.\")\n",
    "        \n",
    "obj = MyClass()\n",
    "print(obj.var) #tab 의 중요성 MyClass()가 실행되지 않았음으로 위에 들어가있는 var 가 들어감 "
   ]
  },
  {
   "cell_type": "code",
   "execution_count": 29,
   "metadata": {},
   "outputs": [
    {
     "name": "stdout",
     "output_type": "stream",
     "text": [
      "MyClass 인스턴스 객체가 메모리에서 제거됩니다\n"
     ]
    }
   ],
   "source": [
    "class MyClass:\n",
    "    def __del__(self):\n",
    "        print('MyClass 인스턴스 객체가 메모리에서 제거됩니다')\n",
    "        \n",
    "obj = MyClass()\n",
    "del obj   #MyClass ㅇㅣㄴㅅㅡㅌㅓㄴㅅㅡ ㄱㅐㄱㅊㅔㄱㅏ ㅁㅔㄹㅗㄹㅣㅇㅔㅅㅓ ㅈㅔㄱㅓㄷㅗㅣㅂㄴㅣㄷㅏ.ㄱㅏ ㅊㅜㄹㄹㅕㄱ"
   ]
  },
  {
   "cell_type": "code",
   "execution_count": 30,
   "metadata": {},
   "outputs": [
    {
     "name": "stdout",
     "output_type": "stream",
     "text": [
      "3\n",
      "-1\n"
     ]
    }
   ],
   "source": [
    "class Add:\n",
    "    def add(self, n1, n2):\n",
    "        return n1+n2\n",
    "    \n",
    "class Calculator(Add):\n",
    "    def sub(self, n1, n2):\n",
    "        return n1-n2\n",
    "    \n",
    "obj = Calculator()\n",
    "print(obj.add(1,2))\n",
    "print(obj.sub(1,2))"
   ]
  },
  {
   "cell_type": "code",
   "execution_count": 32,
   "metadata": {},
   "outputs": [
    {
     "name": "stdout",
     "output_type": "stream",
     "text": [
      "3\n",
      "6\n",
      "1\n"
     ]
    }
   ],
   "source": [
    "class Add:\n",
    "    def add(self, n1, n2):\n",
    "        return n1+n2\n",
    "    \n",
    "class Multiply:\n",
    "    def multiply(self, n1, n2):\n",
    "        return n1*n2\n",
    "    \n",
    "class Calculator(Add, Multiply):\n",
    "    def sub(self, n1, n2):\n",
    "        return n1- n2\n",
    "    \n",
    "obj = Calculator()\n",
    "print(obj.add(1,2))\n",
    "print(obj.multiply(3,2))\n",
    "print(obj.sub(3,2))"
   ]
  },
  {
   "cell_type": "code",
   "execution_count": 33,
   "metadata": {},
   "outputs": [
    {
     "name": "stdout",
     "output_type": "stream",
     "text": [
      "안녕하세요\n",
      "예외가 발생했습니다\n"
     ]
    }
   ],
   "source": [
    "try:\n",
    "    print(\"안녕하세요\")\n",
    "    print(param)\n",
    "except:\n",
    "    print(\"예외가 발생했습니다\")"
   ]
  },
  {
   "cell_type": "code",
   "execution_count": 36,
   "metadata": {},
   "outputs": [
    {
     "name": "stdout",
     "output_type": "stream",
     "text": [
      "안녕하세요\n",
      "예외가 발생했습니다\n"
     ]
    }
   ],
   "source": [
    "try:\n",
    "    print(\"안녕하세요\")\n",
    "    print(param) #스크립언 언어라서 skip \n",
    "except:\n",
    "    print(\"예외가 발생했습니다\")\n",
    "else:\n",
    "    print(\"예외가 발생하지 않았습니다\")"
   ]
  },
  {
   "cell_type": "code",
   "execution_count": 37,
   "metadata": {},
   "outputs": [
    {
     "name": "stdout",
     "output_type": "stream",
     "text": [
      "ㅇㅏㄴㄴㅕㅇㅎㅏㅅㅔㅇㅛ\n",
      "ㅇㅖㅇㅗㅣㄱㅏ ㅂㅏㄹㅅㅐㅇㅎㅐㅆㅅㅡㅂㄴㅣㄷㅏ.\n",
      "ㅁㅜㅈㅗㄱㅓㄴ ㅅㅣㄹㅎㅐㅇㅎㅏㄴㅡㄴ ㅋㅗㄷㅡ\n"
     ]
    }
   ],
   "source": [
    "try: \n",
    "    print(\"ㅇㅏㄴㄴㅕㅇㅎㅏㅅㅔㅇㅛ\")\n",
    "    print(param)\n",
    "except:\n",
    "    print(\"ㅇㅖㅇㅗㅣㄱㅏ ㅂㅏㄹㅅㅐㅇㅎㅐㅆㅅㅡㅂㄴㅣㄷㅏ.\")\n",
    "finally:\n",
    "    print(\"ㅁㅜㅈㅗㄱㅓㄴ ㅅㅣㄹㅎㅐㅇㅎㅏㄴㅡㄴ ㅋㅗㄷㅡ\")\n",
    "    "
   ]
  },
  {
   "cell_type": "code",
   "execution_count": 38,
   "metadata": {},
   "outputs": [
    {
     "name": "stdout",
     "output_type": "stream",
     "text": [
      "name 'param' is not defined\n"
     ]
    }
   ],
   "source": [
    "try:\n",
    "    print(param)\n",
    "except Exception as e:\n",
    "    print(e)"
   ]
  },
  {
   "cell_type": "code",
   "execution_count": 39,
   "metadata": {},
   "outputs": [
    {
     "name": "stdout",
     "output_type": "stream",
     "text": [
      "1\n",
      "2\n",
      "3\n",
      "4\n",
      "5\n",
      "6\n",
      "7\n",
      "8\n",
      "9\n",
      "10\n",
      "11\n",
      "12\n",
      "13\n",
      "14\n",
      "15\n",
      "16\n",
      "17\n",
      "18\n",
      "19\n",
      "20\n",
      "21\n",
      "22\n",
      "23\n",
      "24\n",
      "25\n",
      "26\n",
      "27\n",
      "28\n",
      "29\n",
      "30\n",
      "31\n",
      "32\n",
      "33\n",
      "34\n",
      "35\n",
      "36\n",
      "37\n",
      "38\n",
      "39\n",
      "40\n",
      "41\n",
      "42\n",
      "43\n",
      "44\n",
      "45\n",
      "46\n",
      "47\n",
      "48\n",
      "49\n",
      "50\n",
      "51\n",
      "52\n",
      "53\n",
      "54\n",
      "55\n",
      "56\n",
      "57\n",
      "58\n",
      "59\n",
      "60\n",
      "61\n",
      "62\n",
      "63\n",
      "64\n",
      "65\n",
      "66\n",
      "67\n",
      "68\n",
      "69\n",
      "70\n",
      "71\n",
      "72\n",
      "73\n",
      "74\n",
      "75\n",
      "76\n",
      "77\n",
      "78\n",
      "79\n",
      "80\n",
      "81\n",
      "82\n",
      "83\n",
      "84\n",
      "85\n",
      "86\n",
      "87\n",
      "88\n",
      "89\n",
      "90\n",
      "91\n",
      "92\n",
      "93\n",
      "94\n",
      "95\n",
      "96\n",
      "97\n",
      "98\n",
      "99\n",
      "100\n",
      "101\n",
      "102\n",
      "103\n",
      "104\n",
      "105\n",
      "106\n",
      "107\n",
      "108\n",
      "109\n",
      "110\n",
      "111\n",
      "112\n",
      "113\n",
      "114\n",
      "사용자에 의해 프로그램이 중단되었습니다.\n"
     ]
    }
   ],
   "source": [
    "import time\n",
    "count = 1\n",
    "try:\n",
    "    while True:\n",
    "        print(count)\n",
    "        count += 1\n",
    "        time.sleep(0.5)\n",
    "except KeyboardInterrupt:\n",
    "    print(\"사용자에 의해 프로그램이 중단되었습니다.\")\n",
    "    "
   ]
  },
  {
   "cell_type": "code",
   "execution_count": null,
   "metadata": {},
   "outputs": [],
   "source": [
    "\n",
    "\n"
   ]
  }
 ],
 "metadata": {
  "kernelspec": {
   "display_name": "Python 3",
   "language": "python",
   "name": "python3"
  },
  "language_info": {
   "codemirror_mode": {
    "name": "ipython",
    "version": 3
   },
   "file_extension": ".py",
   "mimetype": "text/x-python",
   "name": "python",
   "nbconvert_exporter": "python",
   "pygments_lexer": "ipython3",
   "version": "3.6.1"
  }
 },
 "nbformat": 4,
 "nbformat_minor": 2
}
