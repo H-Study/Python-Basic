{
 "cells": [
  {
   "cell_type": "code",
   "execution_count": 1,
   "metadata": {},
   "outputs": [
    {
     "name": "stdout",
     "output_type": "stream",
     "text": [
      "False\n",
      "True\n"
     ]
    }
   ],
   "source": [
    "listdata = [1,2,3,4]\n",
    "ret1 = 5 in listdata\n",
    "ret2 = 4 in listdata\n",
    "print(ret1); print(ret2)\n"
   ]
  },
  {
   "cell_type": "code",
   "execution_count": 2,
   "metadata": {},
   "outputs": [],
   "source": [
    "strdata1 = '나는 파이썬 프로그램이다'\n",
    "strdata2 = 'You are a programming'\n",
    "strdata3 = \"\"\"I love \n",
    "python You \n",
    "love Pyhone too!\n",
    "\"\"\"\n",
    "strdata4 = \"My son's name is John\"\n",
    "strdata5 = '문자열 abc의 길이는 3입니다'\n"
   ]
  },
  {
   "cell_type": "code",
   "execution_count": 3,
   "metadata": {},
   "outputs": [
    {
     "name": "stdout",
     "output_type": "stream",
     "text": [
      "I love \n",
      "python You \n",
      "love Pyhone too!\n",
      "\n"
     ]
    }
   ],
   "source": [
    "print(strdata3)"
   ]
  },
  {
   "cell_type": "code",
   "execution_count": 4,
   "metadata": {},
   "outputs": [
    {
     "name": "stdout",
     "output_type": "stream",
     "text": [
      "나는자바1보다 파이썬에 더 익숙합니다.\n",
      "파이썬은 자바1보다 5배 더 쉽습니다.\n",
      "5 + 10 = 15\n",
      "작년 세계 경제 성장률은 전년에 비해 5% 포인트 증가했다.\n"
     ]
    }
   ],
   "source": [
    "txt1 = '자바1'; txt2 = '파이썬'\n",
    "num1 = 5; num2 = 10\n",
    "print('나는%s보다 %s에 더 익숙합니다.'%(txt1,txt2))\n",
    "\n",
    "print('%s은 %s보다 %d배 더 쉽습니다.'%(txt2,txt1,num1))\n",
    "\n",
    "print('%d + %d = %d' %(num1,num2,num1+num2))\n",
    "\n",
    "print('작년 세계 경제 성장률은 전년에 비해 %d%% 포인트 증가했다.'%num1)\n",
    "      "
   ]
  },
  {
   "cell_type": "code",
   "execution_count": 39,
   "metadata": {},
   "outputs": [
    {
     "name": "stdout",
     "output_type": "stream",
     "text": [
      "진행률100%"
     ]
    }
   ],
   "source": [
    "from time import sleep\n",
    "for i in range(100):\n",
    "    msg = '\\r진행률%d%%'%(i+1)\n",
    "    print(''*len(msg),end='')\n",
    "    print(msg,end='')\n",
    "    sleep(0.1)"
   ]
  },
  {
   "cell_type": "code",
   "execution_count": 41,
   "metadata": {},
   "outputs": [
    {
     "name": "stdout",
     "output_type": "stream",
     "text": [
      "[6, 2, 3, 4, 5]\n",
      "안녕하세요\n"
     ]
    }
   ],
   "source": [
    "list1 = [1,2,3,4,5]\n",
    "list2 = ['a','b','c']\n",
    "list3 = [1,'a','abc',[1,2,3,4,5],['a','b','c']]\n",
    "list1[0] = 6\n",
    "print(list1)\n",
    "def myfunc():\n",
    "    print('안녕하세요')\n",
    "list4 = [1,2,myfunc]\n",
    "list4[2]()"
   ]
  },
  {
   "cell_type": "code",
   "execution_count": 49,
   "metadata": {},
   "outputs": [
    {
     "name": "stdout",
     "output_type": "stream",
     "text": [
      "안녕하세요\n"
     ]
    }
   ],
   "source": [
    "tuple1 = (1,2,3,4,5)\n",
    "tuple2 = ('a','b','c')\n",
    "tuple3 = (1,'a','abc',[1,2,3,4,5],['a','b','c'])\n",
    "tuple1[5] = 6\n",
    "\n",
    "\n",
    "def myfunc():\n",
    "    print(\"안녕하세요\")\n",
    "    \n",
    "tuple4 = (1, 2, myfunc)\n",
    "tuple4[2]()"
   ]
  },
  {
   "cell_type": "code",
   "execution_count": 52,
   "metadata": {},
   "outputs": [
    {
     "name": "stdout",
     "output_type": "stream",
     "text": [
      "{'a': 1, 'b': 2, 'c': 3}\n",
      "{'a': 1, 'b': 2, 'c': 3, 'd': 4}\n",
      "{'a': 1, 'b': 7, 'c': 3, 'd': 4}\n",
      "4\n"
     ]
    }
   ],
   "source": [
    "dict1 = {'a':1, 'b':2,'c':3}\n",
    "print(dict1)\n",
    "dict1['d'] = 4\n",
    "print(dict1)\n",
    "dict1['b'] = 7\n",
    "print(dict1)\n",
    "print(len(dict1))"
   ]
  },
  {
   "cell_type": "code",
   "execution_count": 54,
   "metadata": {},
   "outputs": [
    {
     "name": "stdout",
     "output_type": "stream",
     "text": [
      "25\n",
      "대한민국~ 만세!!!\n"
     ]
    }
   ],
   "source": [
    "def add_number(n1,n2):\n",
    "    ret = n1 + n2\n",
    "    return ret\n",
    "\n",
    "def add_txt(t1,t2):\n",
    "    print(t1,t2)\n",
    "    \n",
    "ans = add_number(10,15)\n",
    "print(ans)\n",
    "text1 = '대한민국~'\n",
    "text2 = '만세!!!'\n",
    "add_txt(text1,text2)"
   ]
  },
  {
   "cell_type": "code",
   "execution_count": 63,
   "metadata": {},
   "outputs": [
    {
     "name": "stdout",
     "output_type": "stream",
     "text": [
      "베스트:파이썬\n",
      "1등:대한민국\n",
      "()\n",
      "(3, 5, 1, 5)\n",
      "{'d': 10, 'd1': 20, 'depth': 50, 'color': 'blue'}\n"
     ]
    }
   ],
   "source": [
    "def add_txt(t1,t2='파이썬'):\n",
    "    print(t1+':'+t2)\n",
    "    \n",
    "add_txt('베스트')\n",
    "add_txt(t2='대한민국',t1='1등')\n",
    "\n",
    "def func1(*args):\n",
    "    print(args)\n",
    "    \n",
    "def func2(**kwargs):\n",
    "    print(kwargs)\n",
    "    \n",
    "func1()\n",
    "func1(3,5,1,5)\n",
    "\n",
    "func2(d=10,d1=20,depth=50,color='blue')"
   ]
  },
  {
   "cell_type": "code",
   "execution_count": 66,
   "metadata": {},
   "outputs": [
    {
     "name": "stdout",
     "output_type": "stream",
     "text": [
      "지역변수\n",
      "전역변수\n",
      "10\n",
      "10\n",
      "50\n"
     ]
    }
   ],
   "source": [
    "param = 10\n",
    "strdata = '전역변수'\n",
    "\n",
    "def func1():\n",
    "    strdata = '지역변수'\n",
    "    print(strdata)\n",
    "    \n",
    "def func2(param):\n",
    "    param = 1\n",
    "    \n",
    "def func3():\n",
    "    global param\n",
    "    param = 50\n",
    "    \n",
    "func1()\n",
    "print(strdata)\n",
    "print(param)\n",
    "func2(param)\n",
    "print(param)\n",
    "func3()\n",
    "print(param)"
   ]
  },
  {
   "cell_type": "code",
   "execution_count": 72,
   "metadata": {},
   "outputs": [
    {
     "name": "stdout",
     "output_type": "stream",
     "text": [
      "(3, 2, 1)\n",
      "c.b.a"
     ]
    }
   ],
   "source": [
    "def reverse(x,y,z):\n",
    "    return z,y,x\n",
    "\n",
    "ret = reverse(1,2,3)\n",
    "print(ret)\n",
    "\n",
    "\n",
    "r1,r2,r3 = reverse('a','b','c')\n",
    "print(r1,end='.'); print(r2,end='.'); print(r3,end='')\n",
    "\n"
   ]
  },
  {
   "cell_type": "code",
   "execution_count": null,
   "metadata": {},
   "outputs": [],
   "source": []
  }
 ],
 "metadata": {
  "kernelspec": {
   "display_name": "Python 3",
   "language": "python",
   "name": "python3"
  },
  "language_info": {
   "codemirror_mode": {
    "name": "ipython",
    "version": 3
   },
   "file_extension": ".py",
   "mimetype": "text/x-python",
   "name": "python",
   "nbconvert_exporter": "python",
   "pygments_lexer": "ipython3",
   "version": "3.6.1"
  }
 },
 "nbformat": 4,
 "nbformat_minor": 2
}
