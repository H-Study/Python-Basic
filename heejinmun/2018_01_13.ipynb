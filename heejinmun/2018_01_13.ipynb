{
 "cells": [
  {
   "cell_type": "code",
   "execution_count": 2,
   "metadata": {},
   "outputs": [
    {
     "name": "stdout",
     "output_type": "stream",
     "text": [
      "<값>을 입력하세요.하하하\n",
      "ㄷㅏㅇㅅㅣㄴㅇㅣ ㅇㅣㅂㄹㅕㄱㅎㅏㄴ ㄱㅏㅂㅅㅇㅡㄴ <하하하> ㅇㅣㅂㄴㅣㄷㅏ\n"
     ]
    }
   ],
   "source": [
    "k = input('<값>을 입력하세요.')\n",
    "print('ㄷㅏㅇㅅㅣㄴㅇㅣ ㅇㅣㅂㄹㅕㄱㅎㅏㄴ ㄱㅏㅂㅅㅇㅡㄴ <'+k+'> ㅇㅣㅂㄴㅣㄷㅏ')"
   ]
  },
  {
   "cell_type": "code",
   "execution_count": 3,
   "metadata": {},
   "outputs": [
    {
     "name": "stdout",
     "output_type": "stream",
     "text": [
      "<값>을 입력하세요.wewewe\n",
      "ㄷㅏㅇㅅㅣㄴㅇㅣ ㅇㅣㅂㄹㅕㄱㅎㅏㄴ ㄱㅏㅂㅅㅇㅡㄴ <wewewe> ㅇㅣㅂㄴㅣㄷㅏ\n"
     ]
    }
   ],
   "source": [
    "k = input('<값>을 입력하세요.')\n",
    "print('ㄷㅏㅇㅅㅣㄴㅇㅣ ㅇㅣㅂㄹㅕㄱㅎㅏㄴ ㄱㅏㅂㅅㅇㅡㄴ <'+k+'> ㅇㅣㅂㄴㅣㄷㅏ')\n"
   ]
  },
  {
   "cell_type": "code",
   "execution_count": 24,
   "metadata": {},
   "outputs": [
    {
     "name": "stdout",
     "output_type": "stream",
     "text": [
      "<class 'int'>\n",
      "<class 'str'>\n",
      "<class 'list'>\n",
      "<class 'dict'>\n",
      "<class 'function'>\n",
      "true\n"
     ]
    }
   ],
   "source": [
    "numdata = 57\n",
    "strdata = 'ㅍㅏㅇㅣㅆㅓㄴ'\n",
    "listdata = [1,2,3]\n",
    "dictdata = {'a':1,'b':2}\n",
    "\n",
    "def func():\n",
    "    print(\"ㅇㅏㄴㄴㅕㅇㅎㅏㅅㅔㅇㅛ\")\n",
    "    \n",
    "print(type(numdata))\n",
    "print(type(strdata))\n",
    "print(type(listdata))\n",
    "print(type(dictdata))\n",
    "print(type(func))\n",
    "\n",
    "\n",
    "\n",
    "if callable(func): \n",
    "    print('true')\n",
    "else :\n",
    "    print('flase')\n"
   ]
  },
  {
   "cell_type": "code",
   "execution_count": 25,
   "metadata": {},
   "outputs": [
    {
     "name": "stdout",
     "output_type": "stream",
     "text": [
      "<11113>를 <23>로 나누면 <4>가 나머지로 남습니다.\n"
     ]
    }
   ],
   "source": [
    "a = 11113\n",
    "b = 23\n",
    "ret = a%b\n",
    "print('<%d>를 <%d>로 나누면 <%d>가 나머지로 남습니다.'%(a,b,ret))"
   ]
  },
  {
   "cell_type": "code",
   "execution_count": 28,
   "metadata": {},
   "outputs": [
    {
     "name": "stdout",
     "output_type": "stream",
     "text": [
      "<11113/23>는 몫이 <483>, ㄴㅏㅁㅓㅈㅣ<4> ㅇㅣㅂㄴㅣㄷㅏ.\n"
     ]
    }
   ],
   "source": [
    "a = 11113\n",
    "b = 23\n",
    "ret1, ret2 = divmod(a,b)\n",
    "print('<%d/%d>는 몫이 <%d>, ㄴㅏㅁㅓㅈㅣ<%d> ㅇㅣㅂㄴㅣㄷㅏ.'%(a,b,ret1,ret2))"
   ]
  },
  {
   "cell_type": "code",
   "execution_count": 32,
   "metadata": {},
   "outputs": [
    {
     "name": "stdout",
     "output_type": "stream",
     "text": [
      "0x610x62\n",
      "0xc3\n"
     ]
    }
   ],
   "source": [
    "h1 = hex(97)\n",
    "h2 = hex(98)\n",
    "ret1 = h1 + h2\n",
    "print(ret1)\n",
    "a = int(h1, 16)\n",
    "b = int(h2, 16)\n",
    "ret2 = a+ b\n",
    "print(hex(ret2))"
   ]
  },
  {
   "cell_type": "code",
   "execution_count": 35,
   "metadata": {
    "scrolled": true
   },
   "outputs": [
    {
     "name": "stdout",
     "output_type": "stream",
     "text": [
      "0b11000010b1100010\n",
      "0b11000011\n"
     ]
    }
   ],
   "source": [
    "b1 = bin(97)\n",
    "b2 = bin(98)\n",
    "ret1 = b1 + b2\n",
    "print(ret1)\n",
    "a = int(b1,2)\n",
    "b = int(b2,2)\n",
    "ret2 = a + b\n",
    "print(bin(ret2))\n",
    "\n",
    "#hex, bin 변환은 되지만 string ㅇㅡㄹㅗ ㅇㅣㄴㅅㅣㄱ  "
   ]
  },
  {
   "cell_type": "code",
   "execution_count": 45,
   "metadata": {},
   "outputs": [
    {
     "name": "stdout",
     "output_type": "stream",
     "text": [
      "240\n",
      "240\n",
      "240\n",
      "240\n",
      "240\n",
      "240\n"
     ]
    }
   ],
   "source": [
    "bnum = 0b11110000; bstr = '0b11110000'\n",
    "onum = 0o360 ; ostr = '0o360'\n",
    "hnum = 0xf0; hstr = '0xf0'\n",
    "b1 = int(bnum); b2 = int(bstr,2)\n",
    "o1 = int(onum); o2 = int(ostr,8)\n",
    "h1 = int(hnum); h2 = int(hstr,16)\n",
    "print(b1); print(b2)\n",
    "print(o1); print(o2)\n",
    "print(h1); print(h2)"
   ]
  },
  {
   "cell_type": "code",
   "execution_count": 46,
   "metadata": {},
   "outputs": [
    {
     "name": "stdout",
     "output_type": "stream",
     "text": [
      "3\n",
      "5.72\n",
      "7\n"
     ]
    }
   ],
   "source": [
    "abs1 = abs(-3)\n",
    "abs2 = abs(-5.72)\n",
    "abs3 = abs(3+4)\n",
    "print(abs1)\n",
    "print(abs2)\n",
    "print(abs3)"
   ]
  },
  {
   "cell_type": "code",
   "execution_count": 48,
   "metadata": {},
   "outputs": [
    {
     "name": "stdout",
     "output_type": "stream",
     "text": [
      "1118\n",
      "17\n",
      "1120\n",
      "16.66\n"
     ]
    }
   ],
   "source": [
    "ret = round(1118)\n",
    "ret2 = round(16.554)\n",
    "ret3 = round(1118,-1) #1자리에서 반올림 해줌\n",
    "ret4 = round(16.664,2) #소수점 셋째자리에서 반올림해줌 \n",
    "print(ret)\n",
    "print(ret2)\n",
    "print(ret3)\n",
    "print(ret4)"
   ]
  },
  {
   "cell_type": "code",
   "execution_count": 49,
   "metadata": {},
   "outputs": [
    {
     "name": "stdout",
     "output_type": "stream",
     "text": [
      "-5\n",
      "17\n",
      "171\n"
     ]
    }
   ],
   "source": [
    "idata1 = int(-5.4)\n",
    "idata2 = int(1.78e1)\n",
    "idata3 = int(171.56)\n",
    "print(idata1)\n",
    "print(idata2)\n",
    "print(idata3)"
   ]
  },
  {
   "cell_type": "code",
   "execution_count": 50,
   "metadata": {},
   "outputs": [
    {
     "name": "stdout",
     "output_type": "stream",
     "text": [
      "10.0\n"
     ]
    }
   ],
   "source": [
    "fdata = float(10)\n",
    "print(fdata)"
   ]
  },
  {
   "cell_type": "code",
   "execution_count": 55,
   "metadata": {},
   "outputs": [
    {
     "name": "stdout",
     "output_type": "stream",
     "text": [
      "[119, 1113, 11113, 11119]\n"
     ]
    }
   ],
   "source": [
    "def getPrime(x):\n",
    "    for i in range(2,x-1):\n",
    "        if x%i == 0:\n",
    "            break\n",
    "        else:\n",
    "            return x\n",
    "        \n",
    "        \n",
    "listdata = [116,119,1113,11113,11119]\n",
    "ret = filter(getPrime,listdata)\n",
    "print(list(ret)) "
   ]
  },
  {
   "cell_type": "code",
   "execution_count": 61,
   "metadata": {},
   "outputs": [
    {
     "name": "stdout",
     "output_type": "stream",
     "text": [
      "소수 판단을 원하는 <값>을 입력하세요.1\n"
     ]
    },
    {
     "ename": "TypeError",
     "evalue": "not all arguments converted during string formatting",
     "output_type": "error",
     "traceback": [
      "\u001b[0;31m---------------------------------------------------------------------------\u001b[0m",
      "\u001b[0;31mTypeError\u001b[0m                                 Traceback (most recent call last)",
      "\u001b[0;32m<ipython-input-61-eec42c037e23>\u001b[0m in \u001b[0;36m<module>\u001b[0;34m()\u001b[0m\n\u001b[1;32m      3\u001b[0m \u001b[0;32mfor\u001b[0m \u001b[0mi\u001b[0m \u001b[0;32min\u001b[0m \u001b[0mk\u001b[0m\u001b[0;34m:\u001b[0m\u001b[0;34m\u001b[0m\u001b[0m\n\u001b[1;32m      4\u001b[0m \u001b[0;34m\u001b[0m\u001b[0m\n\u001b[0;32m----> 5\u001b[0;31m     \u001b[0;32mif\u001b[0m \u001b[0mk\u001b[0m\u001b[0;34m%\u001b[0m\u001b[0mi\u001b[0m \u001b[0;34m==\u001b[0m \u001b[0;36m0\u001b[0m \u001b[0;34m:\u001b[0m\u001b[0;34m\u001b[0m\u001b[0m\n\u001b[0m\u001b[1;32m      6\u001b[0m         \u001b[0;32mcontinue\u001b[0m\u001b[0;34m\u001b[0m\u001b[0m\n\u001b[1;32m      7\u001b[0m     \u001b[0;32melif\u001b[0m \u001b[0mk\u001b[0m \u001b[0;34m==\u001b[0m \u001b[0;36m1\u001b[0m\u001b[0;34m:\u001b[0m\u001b[0;34m\u001b[0m\u001b[0m\n",
      "\u001b[0;31mTypeError\u001b[0m: not all arguments converted during string formatting"
     ]
    }
   ],
   "source": [
    "k = input('소수 판단을 원하는 <값>을 입력하세요.')\n",
    "\n",
    "for i in k:\n",
    "    \n",
    "    if k%i == 0 :\n",
    "        continue\n",
    "    elif k == 1:\n",
    "        break\n",
    "    else:\n",
    "        print(\"This is prime number\")\n",
    "        "
   ]
  },
  {
   "cell_type": "code",
   "execution_count": null,
   "metadata": {},
   "outputs": [],
   "source": []
  }
 ],
 "metadata": {
  "kernelspec": {
   "display_name": "Python 3",
   "language": "python",
   "name": "python3"
  },
  "language_info": {
   "codemirror_mode": {
    "name": "ipython",
    "version": 3
   },
   "file_extension": ".py",
   "mimetype": "text/x-python",
   "name": "python",
   "nbconvert_exporter": "python",
   "pygments_lexer": "ipython3",
   "version": "3.6.1"
  }
 },
 "nbformat": 4,
 "nbformat_minor": 2
}
